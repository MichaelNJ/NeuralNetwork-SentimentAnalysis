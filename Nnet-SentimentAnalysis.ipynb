{
 "cells": [
  {
   "cell_type": "markdown",
   "metadata": {},
   "source": [
    "## Neural Network"
   ]
  },
  {
   "cell_type": "code",
   "execution_count": 68,
   "metadata": {
    "collapsed": true
   },
   "outputs": [],
   "source": [
    "%matplotlib inline\n",
    "%config InlineBackend.figure_format = 'retina'\n",
    "\n",
    "from sklearn import preprocessing\n",
    "import matplotlib.pyplot as plt\n",
    "import numpy as np\n",
    "import pandas as pd\n",
    "from collections import Counter\n",
    "import pprint as pp\n",
    "import random\n",
    "import time\n",
    "import sys\n",
    "import os\n",
    "try:\n",
    "   import cPickle as cPickle\n",
    "except:\n",
    "   import pickle as cPickle"
   ]
  },
  {
   "cell_type": "markdown",
   "metadata": {
    "collapsed": true
   },
   "source": [
    "### Load Data"
   ]
  },
  {
   "cell_type": "code",
   "execution_count": 69,
   "metadata": {
    "collapsed": true
   },
   "outputs": [],
   "source": [
    "data = pd.read_csv('dataset/processed_pos_neg_reviews.csv', encoding='latin-1')"
   ]
  },
  {
   "cell_type": "code",
   "execution_count": 70,
   "metadata": {
    "collapsed": false
   },
   "outputs": [
    {
     "data": {
      "text/plain": [
       "NEGATIVE    82037\n",
       "POSITIVE    82037\n",
       "Name: Label, dtype: int64"
      ]
     },
     "execution_count": 70,
     "metadata": {},
     "output_type": "execute_result"
    }
   ],
   "source": [
    "data.Label.value_counts()"
   ]
  },
  {
   "cell_type": "code",
   "execution_count": 71,
   "metadata": {
    "collapsed": false
   },
   "outputs": [
    {
     "data": {
      "text/html": [
       "<div>\n",
       "<table border=\"1\" class=\"dataframe\">\n",
       "  <thead>\n",
       "    <tr style=\"text-align: right;\">\n",
       "      <th></th>\n",
       "      <th>ProductId</th>\n",
       "      <th>Rating</th>\n",
       "      <th>Summary</th>\n",
       "      <th>Text</th>\n",
       "      <th>Label</th>\n",
       "    </tr>\n",
       "  </thead>\n",
       "  <tbody>\n",
       "    <tr>\n",
       "      <th>0</th>\n",
       "      <td>B001NXHY8Y</td>\n",
       "      <td>5</td>\n",
       "      <td>Daughter Approved</td>\n",
       "      <td>I was very upset when I was unable to find an ...</td>\n",
       "      <td>POSITIVE</td>\n",
       "    </tr>\n",
       "    <tr>\n",
       "      <th>1</th>\n",
       "      <td>B00813GRG4</td>\n",
       "      <td>1</td>\n",
       "      <td>Not as Advertised</td>\n",
       "      <td>Product arrived labeled as Jumbo Salted Peanut...</td>\n",
       "      <td>NEGATIVE</td>\n",
       "    </tr>\n",
       "    <tr>\n",
       "      <th>2</th>\n",
       "      <td>B001BS4G6O</td>\n",
       "      <td>4</td>\n",
       "      <td>Pretty good but you can do better</td>\n",
       "      <td>Pill pockets usually work well though sometime...</td>\n",
       "      <td>POSITIVE</td>\n",
       "    </tr>\n",
       "    <tr>\n",
       "      <th>3</th>\n",
       "      <td>B000UA0QIQ</td>\n",
       "      <td>2</td>\n",
       "      <td>Cough Medicine</td>\n",
       "      <td>If you are looking for the secret ingredient i...</td>\n",
       "      <td>NEGATIVE</td>\n",
       "    </tr>\n",
       "    <tr>\n",
       "      <th>4</th>\n",
       "      <td>B005HG9ET0</td>\n",
       "      <td>5</td>\n",
       "      <td>Great taste and refreshing</td>\n",
       "      <td>I'm an avid drinker of Smart Water because of ...</td>\n",
       "      <td>POSITIVE</td>\n",
       "    </tr>\n",
       "  </tbody>\n",
       "</table>\n",
       "</div>"
      ],
      "text/plain": [
       "    ProductId  Rating                            Summary  \\\n",
       "0  B001NXHY8Y       5                  Daughter Approved   \n",
       "1  B00813GRG4       1                  Not as Advertised   \n",
       "2  B001BS4G6O       4  Pretty good but you can do better   \n",
       "3  B000UA0QIQ       2                     Cough Medicine   \n",
       "4  B005HG9ET0       5         Great taste and refreshing   \n",
       "\n",
       "                                                Text     Label  \n",
       "0  I was very upset when I was unable to find an ...  POSITIVE  \n",
       "1  Product arrived labeled as Jumbo Salted Peanut...  NEGATIVE  \n",
       "2  Pill pockets usually work well though sometime...  POSITIVE  \n",
       "3  If you are looking for the secret ingredient i...  NEGATIVE  \n",
       "4  I'm an avid drinker of Smart Water because of ...  POSITIVE  "
      ]
     },
     "execution_count": 71,
     "metadata": {},
     "output_type": "execute_result"
    }
   ],
   "source": [
    "data.head()"
   ]
  },
  {
   "cell_type": "markdown",
   "metadata": {},
   "source": [
    "### Data Preparation"
   ]
  },
  {
   "cell_type": "markdown",
   "metadata": {},
   "source": [
    "Training data"
   ]
  },
  {
   "cell_type": "code",
   "execution_count": 72,
   "metadata": {
    "collapsed": false
   },
   "outputs": [
    {
     "data": {
      "text/html": [
       "<div>\n",
       "<table border=\"1\" class=\"dataframe\">\n",
       "  <thead>\n",
       "    <tr style=\"text-align: right;\">\n",
       "      <th></th>\n",
       "      <th>ProductId</th>\n",
       "      <th>Rating</th>\n",
       "      <th>Summary</th>\n",
       "      <th>Text</th>\n",
       "      <th>Label</th>\n",
       "    </tr>\n",
       "  </thead>\n",
       "  <tbody>\n",
       "    <tr>\n",
       "      <th>0</th>\n",
       "      <td>B001NXHY8Y</td>\n",
       "      <td>5</td>\n",
       "      <td>Daughter Approved</td>\n",
       "      <td>I was very upset when I was unable to find an ...</td>\n",
       "      <td>POSITIVE</td>\n",
       "    </tr>\n",
       "    <tr>\n",
       "      <th>1</th>\n",
       "      <td>B00813GRG4</td>\n",
       "      <td>1</td>\n",
       "      <td>Not as Advertised</td>\n",
       "      <td>Product arrived labeled as Jumbo Salted Peanut...</td>\n",
       "      <td>NEGATIVE</td>\n",
       "    </tr>\n",
       "    <tr>\n",
       "      <th>2</th>\n",
       "      <td>B001BS4G6O</td>\n",
       "      <td>4</td>\n",
       "      <td>Pretty good but you can do better</td>\n",
       "      <td>Pill pockets usually work well though sometime...</td>\n",
       "      <td>POSITIVE</td>\n",
       "    </tr>\n",
       "    <tr>\n",
       "      <th>3</th>\n",
       "      <td>B000UA0QIQ</td>\n",
       "      <td>2</td>\n",
       "      <td>Cough Medicine</td>\n",
       "      <td>If you are looking for the secret ingredient i...</td>\n",
       "      <td>NEGATIVE</td>\n",
       "    </tr>\n",
       "    <tr>\n",
       "      <th>4</th>\n",
       "      <td>B005HG9ET0</td>\n",
       "      <td>5</td>\n",
       "      <td>Great taste and refreshing</td>\n",
       "      <td>I'm an avid drinker of Smart Water because of ...</td>\n",
       "      <td>POSITIVE</td>\n",
       "    </tr>\n",
       "  </tbody>\n",
       "</table>\n",
       "</div>"
      ],
      "text/plain": [
       "    ProductId  Rating                            Summary  \\\n",
       "0  B001NXHY8Y       5                  Daughter Approved   \n",
       "1  B00813GRG4       1                  Not as Advertised   \n",
       "2  B001BS4G6O       4  Pretty good but you can do better   \n",
       "3  B000UA0QIQ       2                     Cough Medicine   \n",
       "4  B005HG9ET0       5         Great taste and refreshing   \n",
       "\n",
       "                                                Text     Label  \n",
       "0  I was very upset when I was unable to find an ...  POSITIVE  \n",
       "1  Product arrived labeled as Jumbo Salted Peanut...  NEGATIVE  \n",
       "2  Pill pockets usually work well though sometime...  POSITIVE  \n",
       "3  If you are looking for the secret ingredient i...  NEGATIVE  \n",
       "4  I'm an avid drinker of Smart Water because of ...  POSITIVE  "
      ]
     },
     "execution_count": 72,
     "metadata": {},
     "output_type": "execute_result"
    }
   ],
   "source": [
    "# first 100000 reviews\n",
    "training_data = data[0:70000].reset_index(drop=True)\n",
    "training_data_length = training_data.shape[0]\n",
    "training_data.head()"
   ]
  },
  {
   "cell_type": "markdown",
   "metadata": {},
   "source": [
    "Validation data"
   ]
  },
  {
   "cell_type": "code",
   "execution_count": 73,
   "metadata": {
    "collapsed": false
   },
   "outputs": [
    {
     "data": {
      "text/html": [
       "<div>\n",
       "<table border=\"1\" class=\"dataframe\">\n",
       "  <thead>\n",
       "    <tr style=\"text-align: right;\">\n",
       "      <th></th>\n",
       "      <th>ProductId</th>\n",
       "      <th>Rating</th>\n",
       "      <th>Summary</th>\n",
       "      <th>Text</th>\n",
       "      <th>Label</th>\n",
       "    </tr>\n",
       "  </thead>\n",
       "  <tbody>\n",
       "    <tr>\n",
       "      <th>0</th>\n",
       "      <td>B000EY1NXK</td>\n",
       "      <td>5</td>\n",
       "      <td>Great taste in a larger size</td>\n",
       "      <td>I purchased the six 10oz bottles of this musta...</td>\n",
       "      <td>POSITIVE</td>\n",
       "    </tr>\n",
       "    <tr>\n",
       "      <th>1</th>\n",
       "      <td>B001VJ0B0I</td>\n",
       "      <td>2</td>\n",
       "      <td>Gross by-products, sugar, and food colorings--...</td>\n",
       "      <td>I completely agree that the ingredients for th...</td>\n",
       "      <td>NEGATIVE</td>\n",
       "    </tr>\n",
       "    <tr>\n",
       "      <th>2</th>\n",
       "      <td>B001HXJG8G</td>\n",
       "      <td>3</td>\n",
       "      <td>Sugar coated</td>\n",
       "      <td>These chopped dates appear to be coated with a...</td>\n",
       "      <td>POSITIVE</td>\n",
       "    </tr>\n",
       "    <tr>\n",
       "      <th>3</th>\n",
       "      <td>B001VJ0B0I</td>\n",
       "      <td>2</td>\n",
       "      <td>Read the Ingredient List</td>\n",
       "      <td>Make sure you read the list of ingredients bef...</td>\n",
       "      <td>NEGATIVE</td>\n",
       "    </tr>\n",
       "    <tr>\n",
       "      <th>4</th>\n",
       "      <td>B000F8GWRM</td>\n",
       "      <td>5</td>\n",
       "      <td>twizzlers sugarfree licorice</td>\n",
       "      <td>not many tasty sugar free products and this is...</td>\n",
       "      <td>POSITIVE</td>\n",
       "    </tr>\n",
       "  </tbody>\n",
       "</table>\n",
       "</div>"
      ],
      "text/plain": [
       "    ProductId  Rating                                            Summary  \\\n",
       "0  B000EY1NXK       5                       Great taste in a larger size   \n",
       "1  B001VJ0B0I       2  Gross by-products, sugar, and food colorings--...   \n",
       "2  B001HXJG8G       3                                       Sugar coated   \n",
       "3  B001VJ0B0I       2                           Read the Ingredient List   \n",
       "4  B000F8GWRM       5                       twizzlers sugarfree licorice   \n",
       "\n",
       "                                                Text     Label  \n",
       "0  I purchased the six 10oz bottles of this musta...  POSITIVE  \n",
       "1  I completely agree that the ingredients for th...  NEGATIVE  \n",
       "2  These chopped dates appear to be coated with a...  POSITIVE  \n",
       "3  Make sure you read the list of ingredients bef...  NEGATIVE  \n",
       "4  not many tasty sugar free products and this is...  POSITIVE  "
      ]
     },
     "execution_count": 73,
     "metadata": {},
     "output_type": "execute_result"
    }
   ],
   "source": [
    "# middle 6019 reviews\n",
    "validation_data = data[70000:76019].reset_index(drop=True)\n",
    "validation_data_length = validation_data.shape[0]\n",
    "validation_data.head()"
   ]
  },
  {
   "cell_type": "markdown",
   "metadata": {},
   "source": [
    "Testing data"
   ]
  },
  {
   "cell_type": "code",
   "execution_count": 74,
   "metadata": {
    "collapsed": false
   },
   "outputs": [
    {
     "data": {
      "text/html": [
       "<div>\n",
       "<table border=\"1\" class=\"dataframe\">\n",
       "  <thead>\n",
       "    <tr style=\"text-align: right;\">\n",
       "      <th></th>\n",
       "      <th>ProductId</th>\n",
       "      <th>Rating</th>\n",
       "      <th>Summary</th>\n",
       "      <th>Text</th>\n",
       "      <th>Label</th>\n",
       "    </tr>\n",
       "  </thead>\n",
       "  <tbody>\n",
       "    <tr>\n",
       "      <th>0</th>\n",
       "      <td>B003NV2IG2</td>\n",
       "      <td>2</td>\n",
       "      <td>Inconsistent Taste</td>\n",
       "      <td>I first tasted Annie Chun's seaweed three year...</td>\n",
       "      <td>NEGATIVE</td>\n",
       "    </tr>\n",
       "    <tr>\n",
       "      <th>1</th>\n",
       "      <td>B003056CWM</td>\n",
       "      <td>3</td>\n",
       "      <td>Juicy Vegan Franks!</td>\n",
       "      <td>These deli franks are one of the greatest vega...</td>\n",
       "      <td>POSITIVE</td>\n",
       "    </tr>\n",
       "    <tr>\n",
       "      <th>2</th>\n",
       "      <td>B003NV2IG2</td>\n",
       "      <td>2</td>\n",
       "      <td>Nothing like sushi, that's for sure</td>\n",
       "      <td>For me, these were a total bust. The texture s...</td>\n",
       "      <td>NEGATIVE</td>\n",
       "    </tr>\n",
       "    <tr>\n",
       "      <th>3</th>\n",
       "      <td>B000HBO134</td>\n",
       "      <td>5</td>\n",
       "      <td>Simply marvelous!!!!</td>\n",
       "      <td>I could never find the Peach flavored version ...</td>\n",
       "      <td>POSITIVE</td>\n",
       "    </tr>\n",
       "    <tr>\n",
       "      <th>4</th>\n",
       "      <td>B003NV2IG2</td>\n",
       "      <td>2</td>\n",
       "      <td>Mediocre for Seaweed Snacking</td>\n",
       "      <td>This is one of many varieties of seaweed snack...</td>\n",
       "      <td>NEGATIVE</td>\n",
       "    </tr>\n",
       "  </tbody>\n",
       "</table>\n",
       "</div>"
      ],
      "text/plain": [
       "    ProductId  Rating                              Summary  \\\n",
       "0  B003NV2IG2       2                   Inconsistent Taste   \n",
       "1  B003056CWM       3                  Juicy Vegan Franks!   \n",
       "2  B003NV2IG2       2  Nothing like sushi, that's for sure   \n",
       "3  B000HBO134       5                 Simply marvelous!!!!   \n",
       "4  B003NV2IG2       2        Mediocre for Seaweed Snacking   \n",
       "\n",
       "                                                Text     Label  \n",
       "0  I first tasted Annie Chun's seaweed three year...  NEGATIVE  \n",
       "1  These deli franks are one of the greatest vega...  POSITIVE  \n",
       "2  For me, these were a total bust. The texture s...  NEGATIVE  \n",
       "3  I could never find the Peach flavored version ...  POSITIVE  \n",
       "4  This is one of many varieties of seaweed snack...  NEGATIVE  "
      ]
     },
     "execution_count": 74,
     "metadata": {},
     "output_type": "execute_result"
    }
   ],
   "source": [
    "# last 6018 reviews\n",
    "test_data = data[76019:82037].reset_index(drop=True)\n",
    "test_data_length = test_data.shape[0]\n",
    "test_data.head()"
   ]
  },
  {
   "cell_type": "markdown",
   "metadata": {},
   "source": [
    "#### What is the shape of our input data"
   ]
  },
  {
   "cell_type": "markdown",
   "metadata": {},
   "source": [
    "Training data"
   ]
  },
  {
   "cell_type": "code",
   "execution_count": 75,
   "metadata": {
    "collapsed": false
   },
   "outputs": [
    {
     "name": "stdout",
     "output_type": "stream",
     "text": [
      "(70000, 5)\n"
     ]
    }
   ],
   "source": [
    "pp.pprint(training_data.shape)"
   ]
  },
  {
   "cell_type": "code",
   "execution_count": 76,
   "metadata": {
    "collapsed": false
   },
   "outputs": [
    {
     "name": "stdout",
     "output_type": "stream",
     "text": [
      "(70000,)\n"
     ]
    }
   ],
   "source": [
    "pp.pprint(training_data.Label.shape)"
   ]
  },
  {
   "cell_type": "markdown",
   "metadata": {},
   "source": [
    "There are 5 features and 70000 samples in our training set"
   ]
  },
  {
   "cell_type": "markdown",
   "metadata": {},
   "source": [
    "Validation data"
   ]
  },
  {
   "cell_type": "code",
   "execution_count": 77,
   "metadata": {
    "collapsed": false
   },
   "outputs": [
    {
     "name": "stdout",
     "output_type": "stream",
     "text": [
      "(6019, 5)\n"
     ]
    }
   ],
   "source": [
    "pp.pprint(validation_data.shape)"
   ]
  },
  {
   "cell_type": "code",
   "execution_count": 78,
   "metadata": {
    "collapsed": false
   },
   "outputs": [
    {
     "name": "stdout",
     "output_type": "stream",
     "text": [
      "(6019,)\n"
     ]
    }
   ],
   "source": [
    "pp.pprint(validation_data.Label.shape)"
   ]
  },
  {
   "cell_type": "markdown",
   "metadata": {},
   "source": [
    "Test data"
   ]
  },
  {
   "cell_type": "code",
   "execution_count": 79,
   "metadata": {
    "collapsed": false
   },
   "outputs": [
    {
     "name": "stdout",
     "output_type": "stream",
     "text": [
      "(6018, 5)\n"
     ]
    }
   ],
   "source": [
    "pp.pprint(test_data.shape)"
   ]
  },
  {
   "cell_type": "code",
   "execution_count": 80,
   "metadata": {
    "collapsed": false
   },
   "outputs": [
    {
     "name": "stdout",
     "output_type": "stream",
     "text": [
      "(6018,)\n"
     ]
    }
   ],
   "source": [
    "pp.pprint(test_data.Label.shape)"
   ]
  },
  {
   "cell_type": "markdown",
   "metadata": {},
   "source": [
    "### Transform Text into Numbers Using the Bag-of-Words Technique"
   ]
  },
  {
   "cell_type": "markdown",
   "metadata": {},
   "source": [
    "Neural Networks only understand numbers hence we have to find a way to represent our text inputs in a way it can understand"
   ]
  },
  {
   "cell_type": "code",
   "execution_count": 81,
   "metadata": {
    "collapsed": false
   },
   "outputs": [
    {
     "name": "stdout",
     "output_type": "stream",
     "text": [
      "183506\n"
     ]
    }
   ],
   "source": [
    "vocab = set(total_counts.keys())\n",
    "vocab_size = len(vocab)\n",
    "print(vocab_size)"
   ]
  },
  {
   "cell_type": "markdown",
   "metadata": {},
   "source": [
    "We can see that from our `training_data`, we have a total of **183041** unique words. Use this to build up our vocabulary vector containing columns of all these words.\n",
    "\n",
    "Because, **183041**, can be a large size in memory (a matrix of size **183041 by 100000**), lets allocate its memory once with default zeros and will only change its contents accordingly later."
   ]
  },
  {
   "cell_type": "code",
   "execution_count": 82,
   "metadata": {
    "collapsed": false
   },
   "outputs": [
    {
     "name": "stdout",
     "output_type": "stream",
     "text": [
      "(1, 183506)\n",
      "array([[ 0.,  0.,  0., ...,  0.,  0.,  0.]])\n"
     ]
    }
   ],
   "source": [
    "vocab_vector_column = np.zeros((1, vocab_size))\n",
    "pp.pprint(vocab_vector_column.shape)\n",
    "pp.pprint(vocab_vector_column)"
   ]
  },
  {
   "cell_type": "markdown",
   "metadata": {},
   "source": [
    "Now, let's create a dictionary that allows us to look at every word in our vocabulary and map it to the `vocab_vector` column."
   ]
  },
  {
   "cell_type": "code",
   "execution_count": 83,
   "metadata": {
    "collapsed": false
   },
   "outputs": [],
   "source": [
    "#  Maps a word to its column in the vocab_vector\n",
    "word_column_dict = {}\n",
    "\n",
    "for i, word in enumerate(vocab):\n",
    "    # {key: value} is {word: column}\n",
    "    word_column_dict[word] = i"
   ]
  },
  {
   "cell_type": "code",
   "execution_count": 84,
   "metadata": {
    "collapsed": true
   },
   "outputs": [],
   "source": [
    "def slice_dict(dict, pattern):\n",
    "    return {k:v for k,v in dict.items() if k.startswith(pattern)}"
   ]
  },
  {
   "cell_type": "code",
   "execution_count": 85,
   "metadata": {
    "collapsed": false
   },
   "outputs": [
    {
     "name": "stdout",
     "output_type": "stream",
     "text": [
      "{'.': 8802,\n",
      " '.\"': 107006,\n",
      " '.(with': 58995,\n",
      " '.-_-': 104097,\n",
      " '..': 128309,\n",
      " '..!': 131585,\n",
      " '...': 170534,\n",
      " '...\"Made': 100154,\n",
      " '...\"regular': 10942,\n",
      " \"...'\": 146846,\n",
      " '...(6);...': 71409,\n",
      " '...(7)}.<br': 110677,\n",
      " '...(any': 13203,\n",
      " '...)': 20826,\n",
      " '...).': 75509,\n",
      " '...):<br': 46670,\n",
      " '...)<br': 77713,\n",
      " '...*]<br': 110549,\n",
      " '...,<br': 96142,\n",
      " '....': 45593,\n",
      " '....!Taste': 154712,\n",
      " '....\"': 182950,\n",
      " '.....': 7403,\n",
      " '.....\"Fog': 108012,\n",
      " '.....(4),<br': 131439,\n",
      " '......': 436,\n",
      " '.......': 59306,\n",
      " '.......\"blood': 114675,\n",
      " '........': 54361,\n",
      " '.........': 149878,\n",
      " '..........': 158081,\n",
      " '...........': 30956,\n",
      " '............': 171873,\n",
      " '.............': 159017,\n",
      " '..............': 38008,\n",
      " '.............................': 110194,\n",
      " '................................': 58533,\n",
      " '...................................': 161139,\n",
      " '....................................': 116112,\n",
      " '.......................................': 28430,\n",
      " '.........................................': 121029,\n",
      " '..............................................': 81653,\n",
      " '...................................<br': 108463,\n",
      " '..................................2/16/2011<br': 94892,\n",
      " '..........2/16/2011<br': 94877,\n",
      " '.........CHINA...!!!!!!.': 94918,\n",
      " '........<br': 89048,\n",
      " '........I': 41085,\n",
      " '........This': 89117,\n",
      " '........something': 161664,\n",
      " '.......16': 109511,\n",
      " '.......<br': 179376,\n",
      " '.......LOVE': 60554,\n",
      " '.....<br': 12272,\n",
      " '.....B': 18380,\n",
      " '.....Good': 142494,\n",
      " '.....I': 160622,\n",
      " '.....NO': 174329,\n",
      " '.....THEN': 74711,\n",
      " '.....TOTALLY': 21237,\n",
      " '.....Wt1': 30324,\n",
      " \".....can't\": 104322,\n",
      " '.....is': 138319,\n",
      " '.....it': 84333,\n",
      " '.....nothing': 35737,\n",
      " '.....sad': 152113,\n",
      " '....<br': 158957,\n",
      " '....GOURMET': 60762,\n",
      " '....I': 33816,\n",
      " '....Nothing.': 115234,\n",
      " '....Oh': 57361,\n",
      " '....Really?': 171008,\n",
      " '....THIS': 95047,\n",
      " '....Veggi': 49944,\n",
      " '....Why': 86454,\n",
      " '....Yuck!<br': 88534,\n",
      " '....aka:': 31264,\n",
      " '....and': 156810,\n",
      " '....arghhhh...I': 134620,\n",
      " '....as': 139405,\n",
      " '....barely': 98617,\n",
      " '....because': 172226,\n",
      " '....but': 174933,\n",
      " '....buy': 101899,\n",
      " '....ergo,': 50781,\n",
      " '....even': 98979,\n",
      " '....hmmmm': 57786,\n",
      " '....product': 43925,\n",
      " '....putting': 32373,\n",
      " '....right?': 54670,\n",
      " '....they': 26470,\n",
      " '....this': 7957,\n",
      " '....thought': 102215,\n",
      " \"....well...here's\": 48411,\n",
      " '....wonderful': 173497,\n",
      " '....wow...!!!!!!!!!!!!!!!!!!!!!<br': 166876,\n",
      " '....you': 150958,\n",
      " '...1': 25760,\n",
      " '...2': 15950,\n",
      " '...2Days': 159148,\n",
      " '...<br': 75110,\n",
      " '...?<br': 63638,\n",
      " '...A': 3658,\n",
      " '...And': 35190,\n",
      " '...But': 164451,\n",
      " \"...CAN'T\": 100338,\n",
      " '...Culinary': 98147,\n",
      " '...D-I-A-P-P-O-I-N-T-E-D!': 170537,\n",
      " '...Fat': 63229,\n",
      " '...HUH?': 25610,\n",
      " '...I': 550,\n",
      " \"...I'll\": 117630,\n",
      " \"...I've\": 42268,\n",
      " '...IF': 77092,\n",
      " '...IT': 107910,\n",
      " '...Just': 72146,\n",
      " '...MSG.': 52083,\n",
      " '...No': 11254,\n",
      " '...ONLY': 41158,\n",
      " '...Rizzo': 64164,\n",
      " '...Sometimes': 128079,\n",
      " '...THEY': 169547,\n",
      " '...This': 94765,\n",
      " '...VOILA!!!': 71086,\n",
      " '...WILL': 178989,\n",
      " '...Wt1': 104468,\n",
      " '...Wt2': 61563,\n",
      " '...a': 90401,\n",
      " '...after': 161330,\n",
      " '...also': 37055,\n",
      " '...and': 115634,\n",
      " '...as': 14966,\n",
      " '...at': 30576,\n",
      " '...because': 92374,\n",
      " '...burp!!!': 162233,\n",
      " '...but': 42492,\n",
      " '...did': 84459,\n",
      " '...does': 86597,\n",
      " '...especially': 97167,\n",
      " '...etc.\"': 60467,\n",
      " '...etc<br': 89917,\n",
      " '...even': 16696,\n",
      " '...for': 36105,\n",
      " '...get': 101549,\n",
      " '...hard': 173908,\n",
      " '...illy': 25632,\n",
      " '...in': 64629,\n",
      " '...is': 9674,\n",
      " '...it': 27603,\n",
      " \"...it's\": 117048,\n",
      " '...judging': 166979,\n",
      " '...less': 28216,\n",
      " '...like': 21562,\n",
      " '...look': 108335,\n",
      " '...lousy': 61205,\n",
      " '...maybe': 17124,\n",
      " '...meh.': 902,\n",
      " '...michael': 158972,\n",
      " '...mmm': 160688,\n",
      " '...mom': 135640,\n",
      " '...money': 148635,\n",
      " '...more': 141218,\n",
      " '...mostly': 52781,\n",
      " '...natural': 26179,\n",
      " '...no': 170650,\n",
      " '...not': 154741,\n",
      " '...nuts.com....I': 118376,\n",
      " '...okay': 163797,\n",
      " '...once.': 177045,\n",
      " '...one': 3641,\n",
      " '...or': 93612,\n",
      " '...powdery.': 161149,\n",
      " '...since': 154705,\n",
      " '...so': 180337,\n",
      " '...thank': 148238,\n",
      " '...that': 160459,\n",
      " \"...that's\": 74778,\n",
      " '...the': 161881,\n",
      " '...their': 108829,\n",
      " '...there': 156246,\n",
      " '...they': 79479,\n",
      " '...this': 165785,\n",
      " '...this,': 176459,\n",
      " '...to': 65563,\n",
      " '...two': 114087,\n",
      " '...ty': 126396,\n",
      " '...we': 173608,\n",
      " '...what': 68509,\n",
      " '...when': 166158,\n",
      " '...why': 169236,\n",
      " '...will': 55138,\n",
      " '...with': 12506,\n",
      " '...without': 60824,\n",
      " '...wow': 103525,\n",
      " '...you': 119473,\n",
      " '..<br': 99406,\n",
      " '..A': 48361,\n",
      " '..BEST..USED//BY': 6844,\n",
      " '..Big': 140645,\n",
      " '..Either': 111051,\n",
      " '..I': 15740,\n",
      " '..It': 151324,\n",
      " '..Love': 123035,\n",
      " '..MY': 90860,\n",
      " '..More,...': 34967,\n",
      " '..NOT': 135568,\n",
      " '..Sooo': 10617,\n",
      " '..THE': 117328,\n",
      " '..The': 133754,\n",
      " '..Used': 137989,\n",
      " '..Very': 52088,\n",
      " '..at': 183492,\n",
      " '..but': 108861,\n",
      " '..but..': 160939,\n",
      " '..did': 158287,\n",
      " '..err...': 58721,\n",
      " '..hence': 56607,\n",
      " '..i': 64488,\n",
      " '..it': 59768,\n",
      " '..its': 168614,\n",
      " '..just': 77885,\n",
      " '..l': 5157,\n",
      " '..mainly': 42381,\n",
      " '..no': 155471,\n",
      " '..only': 20140,\n",
      " '..packaged': 92229,\n",
      " '..shipping': 32747,\n",
      " '..smelled': 64743,\n",
      " '..so': 80964,\n",
      " '..stillwater': 133128,\n",
      " '..there': 2712,\n",
      " '..try': 160952,\n",
      " '..umm..': 30947,\n",
      " '..whatever\"': 41558,\n",
      " '..whew!!': 176610,\n",
      " '..wonderful': 86753,\n",
      " '.01': 46821,\n",
      " '.02': 136086,\n",
      " '.03': 164255,\n",
      " '.0439': 180359,\n",
      " '.05': 138572,\n",
      " '.05.': 49068,\n",
      " '.053229': 110575,\n",
      " '.06/oz': 139023,\n",
      " '.065': 41389,\n",
      " '.07': 148399,\n",
      " '.08%).': 177263,\n",
      " '.089': 93121,\n",
      " '.08oz': 165450,\n",
      " '.0929': 172609,\n",
      " '.1': 78563,\n",
      " '.1%': 142103,\n",
      " '.10': 87780,\n",
      " '.10............': 78957,\n",
      " '.10/chip': 75207,\n",
      " '.11': 115856,\n",
      " '.18': 7496,\n",
      " '.1g': 52721,\n",
      " '.2': 50491,\n",
      " '.2,': 159116,\n",
      " '.20': 167136,\n",
      " '.25': 154220,\n",
      " '.25C': 63437,\n",
      " '.28': 178755,\n",
      " '.28/oz,': 106307,\n",
      " '.28oz': 48273,\n",
      " '.2OZ': 125852,\n",
      " '.2oz': 100130,\n",
      " '.30': 14825,\n",
      " '.31': 163562,\n",
      " '.32': 106410,\n",
      " '.33': 34117,\n",
      " '.35': 51829,\n",
      " '.35oz': 20715,\n",
      " '.38': 101885,\n",
      " '.38%': 48671,\n",
      " '.38/oz,': 9961,\n",
      " '.4-grams': 82887,\n",
      " '.40': 97994,\n",
      " '.41': 34620,\n",
      " '.42': 138526,\n",
      " '.43': 100863,\n",
      " '.44': 176372,\n",
      " '.45': 75534,\n",
      " '.47': 121752,\n",
      " '.4g': 154853,\n",
      " '.4g...': 114662,\n",
      " '.5': 84041,\n",
      " '.5\",': 13710,\n",
      " '.50': 136663,\n",
      " '.50c': 72166,\n",
      " '.50cents': 83406,\n",
      " '.54': 30924,\n",
      " '.55': 44542,\n",
      " '.5825': 98279,\n",
      " '.5g': 109720,\n",
      " '.5g,': 23433,\n",
      " '.5oz': 143387,\n",
      " '.60': 3004,\n",
      " '.61': 78441,\n",
      " '.65': 92618,\n",
      " '.66': 6102,\n",
      " '.687': 73787,\n",
      " '.6oz.': 5415,\n",
      " '.6oz/14oz': 176250,\n",
      " '.7': 144184,\n",
      " '.70': 180715,\n",
      " '.71/ounce....A': 37579,\n",
      " '.717': 76040,\n",
      " '.72%': 183214,\n",
      " '.74': 15343,\n",
      " '.75': 10248,\n",
      " '.75p': 107339,\n",
      " '.76': 75397,\n",
      " '.77-ounce': 63116,\n",
      " '.77.': 79706,\n",
      " '.78': 166938,\n",
      " '.8': 89084,\n",
      " \".80-.99$'s\": 30672,\n",
      " '.81': 70993,\n",
      " '.85': 34663,\n",
      " \".85's\": 34201,\n",
      " '.85oz': 87428,\n",
      " '.88': 29210,\n",
      " '.88/can.': 89721,\n",
      " '.88lb': 116561,\n",
      " '.89': 161904,\n",
      " '.8oz': 25540,\n",
      " '.9%': 114504,\n",
      " '.90': 4273,\n",
      " '.94': 59721,\n",
      " '.95': 77643,\n",
      " '.97': 70370,\n",
      " '.97cent': 158015,\n",
      " '.97cents': 134849,\n",
      " '.99': 122637,\n",
      " '.99/can': 2888,\n",
      " '.999999.': 97448,\n",
      " '.99cent': 79844,\n",
      " '.<a': 119195,\n",
      " '.<br': 140482,\n",
      " '.>I': 12999,\n",
      " '.A': 61092,\n",
      " '.And': 34761,\n",
      " '.Anyway': 104297,\n",
      " '.But': 139950,\n",
      " '.Drink': 83759,\n",
      " '.Get': 174642,\n",
      " '.He': 63467,\n",
      " '.I': 144411,\n",
      " '.It': 48043,\n",
      " \".It's\": 90917,\n",
      " '.Laura<a': 106183,\n",
      " '.My': 42753,\n",
      " '.Only': 108216,\n",
      " '.Perfecto': 72446,\n",
      " '.Poor': 40832,\n",
      " '.Right': 157272,\n",
      " '.So': 151719,\n",
      " '.Thank': 101670,\n",
      " '.The': 115334,\n",
      " '.They': 49820,\n",
      " '.When': 138555,\n",
      " '.Whiskas,': 68672,\n",
      " '.Will': 66858,\n",
      " '._.': 24599,\n",
      " '.all': 131464,\n",
      " '.and': 71005,\n",
      " '.at': 120534,\n",
      " '.but': 183202,\n",
      " '.com': 125791,\n",
      " '.come': 9552,\n",
      " \".couldn't\": 122568,\n",
      " '.excellent': 125877,\n",
      " '.fast': 75394,\n",
      " '.fermented': 7235,\n",
      " '.i': 74503,\n",
      " '.it': 74759,\n",
      " '.just': 22091,\n",
      " '.mx': 11683,\n",
      " '.my': 32116,\n",
      " '.or': 126407,\n",
      " '.person': 129362,\n",
      " '.pistachios.': 58086,\n",
      " '.place.': 119819,\n",
      " '.so': 134241,\n",
      " '.stop': 80314,\n",
      " '.thank': 441,\n",
      " '.thanks': 139766,\n",
      " '.the': 110636,\n",
      " '.they': 167266,\n",
      " '.this': 128914,\n",
      " '.to': 59951,\n",
      " '.upon': 69957,\n",
      " '.very': 4515,\n",
      " '.well,': 3539,\n",
      " '.what': 83849,\n",
      " '.when': 141333,\n",
      " '.whenever': 104469,\n",
      " '.will': 74739}\n"
     ]
    }
   ],
   "source": [
    "pp.pprint(slice_dict(word_column_dict, \".\"))"
   ]
  },
  {
   "cell_type": "markdown",
   "metadata": {},
   "source": [
    "We are going to use the count of words as the input to our neural network. The `vocab_vector` will have columns for all the words in our training data in the form of `{key: value}` i.e `{word: count}` as held by the `word_column_dict`  python `Dictionary`. The individual word counts in any particular review is updated from 0 to a number based on a word's total count in any single text.\n",
    "\n",
    "This means that the words with a higher count might have a higher weight in determining whether a text is a spam or not."
   ]
  },
  {
   "cell_type": "code",
   "execution_count": 86,
   "metadata": {
    "collapsed": false
   },
   "outputs": [],
   "source": [
    "def update_input_layer(text):\n",
    "    pp.pprint(text)\n",
    "    global vocab_vector_column\n",
    "    \n",
    "    # clear out previous state, reset the vector to be all 0s\n",
    "    vocab_vector_column *= 0\n",
    "    for word in text.split(\" \"):\n",
    "        vocab_vector_column[0][word_column_dict[word]] += 1"
   ]
  },
  {
   "cell_type": "code",
   "execution_count": 87,
   "metadata": {
    "collapsed": false
   },
   "outputs": [],
   "source": [
    "def get_target_for_label(label, is_num=True):\n",
    "    if(is_num):\n",
    "        if(label == 'POSITIVE'):\n",
    "            return 1\n",
    "        else:\n",
    "            return 0\n",
    "    return label"
   ]
  },
  {
   "cell_type": "code",
   "execution_count": 88,
   "metadata": {
    "collapsed": false
   },
   "outputs": [],
   "source": [
    "random_review = random.randrange(0,training_data.shape[0], 50)"
   ]
  },
  {
   "cell_type": "code",
   "execution_count": 89,
   "metadata": {
    "collapsed": false
   },
   "outputs": [
    {
     "name": "stdout",
     "output_type": "stream",
     "text": [
      "('Hands down my favorite sauce, especially for Mexican food, eggs and stews. '\n",
      " 'It has become a staple in our kitchen.')\n"
     ]
    }
   ],
   "source": [
    "update_input_layer(training_data.Text[random_review])"
   ]
  },
  {
   "cell_type": "code",
   "execution_count": 90,
   "metadata": {
    "collapsed": false
   },
   "outputs": [
    {
     "data": {
      "text/plain": [
       "1"
      ]
     },
     "execution_count": 90,
     "metadata": {},
     "output_type": "execute_result"
    }
   ],
   "source": [
    "get_target_for_label(training_data.Label[random_review])"
   ]
  },
  {
   "cell_type": "code",
   "execution_count": 91,
   "metadata": {
    "collapsed": false
   },
   "outputs": [
    {
     "data": {
      "text/plain": [
       "'POSITIVE'"
      ]
     },
     "execution_count": 91,
     "metadata": {},
     "output_type": "execute_result"
    }
   ],
   "source": [
    "get_target_for_label(training_data.Label[random_review], is_num=False)"
   ]
  },
  {
   "cell_type": "code",
   "execution_count": 92,
   "metadata": {
    "collapsed": false
   },
   "outputs": [
    {
     "data": {
      "text/plain": [
       "array([[ 0.,  0.,  0., ...,  0.,  0.,  0.]])"
      ]
     },
     "execution_count": 92,
     "metadata": {},
     "output_type": "execute_result"
    }
   ],
   "source": [
    "vocab_vector_column"
   ]
  },
  {
   "cell_type": "markdown",
   "metadata": {},
   "source": [
    "### Build the SentimentalNeuralNetwork"
   ]
  },
  {
   "cell_type": "code",
   "execution_count": 148,
   "metadata": {
    "collapsed": false
   },
   "outputs": [],
   "source": [
    "# Let's tweak our network from before to model these phenomena\n",
    "class SentimentalNeuralNetwork(object):\n",
    "    def __init__(self, training_data, num_hidden_nodes = 10, num_epochs = 10, learning_rate = 0.1):\n",
    "        # set our random number generator \n",
    "        np.random.seed(1)\n",
    "        # pre-process data\n",
    "        self.pre_process_data(training_data)\n",
    "        \n",
    "        # set network paramaters\n",
    "        self.num_features = len(self.vocab)\n",
    "        self.vocab_vector = np.zeros((1, len(self.vocab)))\n",
    "        self.num_input_nodes = self.num_features\n",
    "        self.num_hidden_nodes = num_hidden_nodes\n",
    "        self.num_epochs = num_epochs\n",
    "        self.num_output_nodes = 1\n",
    "        self.learning_rate = learning_rate\n",
    "        \n",
    "        # for printing later\n",
    "        self.losses = {'train':[], 'validation':[]}\n",
    "\n",
    "        # initialize weights\n",
    "        self.weights_i_h = np.random.randn(self.num_input_nodes, self.num_hidden_nodes)\n",
    "        self.weights_h_o = np.random.randn(self.num_hidden_nodes, self.num_output_nodes)\n",
    "        \n",
    "    def forward_backward_propagate(self, text, label):\n",
    "        ### Forward pass ###\n",
    "        # Input Layer\n",
    "        self.update_input_layer(text)\n",
    "        # Hidden layer\n",
    "        hidden_layer = self.vocab_vector.dot(self.weights_i_h)\n",
    "        # Output layer\n",
    "        output_layer = self.sigmoid(hidden_layer.dot(self.weights_h_o))\n",
    "        \n",
    "        ### Backward pass ###\n",
    "        # Output error\n",
    "        output_layer_error = output_layer - self.get_target_for_label(label)\n",
    "        output_layer_delta = output_layer_error * self.sigmoid_derivative(output_layer)\n",
    "\n",
    "        # Backpropagated error - to the hidden layer\n",
    "        hidden_layer_error = output_layer_delta.dot(self.weights_h_o.T)\n",
    "        # hidden layer gradients - no nonlinearity so it's the same as the error\n",
    "        hidden_layer_delta = output_layer_error \n",
    "\n",
    "        # update the weights - with grdient descent\n",
    "        self.weights_h_o -= hidden_layer.T.dot(output_layer_delta) * self.learning_rate \n",
    "        self.weights_i_h -= self.vocab_vector.T.dot(hidden_layer_delta) * self.learning_rate \n",
    "        \n",
    "        if(output_layer >= 0.5 and self.get_target_for_label(label) == 1):\n",
    "                self.correct_so_far += 1\n",
    "        elif(output_layer < 0.5 and self.get_target_for_label(label) == 0):\n",
    "                self.correct_so_far += 1\n",
    "        \n",
    "    def train(self):\n",
    "        # iterate through all epochs\n",
    "        for epoch in range(self.num_epochs):\n",
    "            self.correct_so_far = 0\n",
    "            start = time.time()\n",
    "            training_loss = 0\n",
    "\n",
    "            for row in range(len(training_data)):\n",
    "                # Forward and Back Propagation\n",
    "                self.forward_backward_propagate(training_data.Text[row], training_data.Label[row])\n",
    "\n",
    "                # calculate our speed\n",
    "                elasped_time = float(time.time() - start + 0.001)\n",
    "                samples_per_second = row / float(elasped_time)\n",
    "                # calculate our accuracy\n",
    "                training_accuracy = self.correct_so_far * 100 / float(row+1)\n",
    "                # print progress of training\n",
    "                sys.stdout.write(\"\\rEpoch: \"+ str(epoch)\n",
    "                                 + \" Progress: \" + str(100 * row/float(training_data.shape[0]))[:4] + \"%\"\n",
    "                                 + \" Speed(samples/sec): \" + str(samples_per_second)[0:5] \n",
    "                                 + \" #Correct: \" + str(self.correct_so_far) \n",
    "                                 + \" #Trained: \" + str(row+1) \n",
    "                                 + \" Training Accuracy: \" + str(training_accuracy)[:4] + \"%\")\n",
    "                \n",
    "            training_loss = self.run(training_data[0:7000])\n",
    "            self.losses[\"train\"].append(training_loss)   \n",
    "            print(\"\") \n",
    "            \n",
    "            \n",
    "    def test(self, test_data):\n",
    "        # How many predictions are correct out of total training\n",
    "        correct = 0\n",
    "        # start time of one epoch\n",
    "        start = time.time()\n",
    "        # iterate through all training samples\n",
    "        for i in range(0, test_data.shape[0]):\n",
    "            # get prediction\n",
    "            pred = self.predict(test_data.Text[i])\n",
    "            # count how many we validate as correct\n",
    "            if(pred >= 0.5 and self.get_target_for_label(test_data.Label[i]) == 1):\n",
    "                correct += 1\n",
    "            elif(pred < 0.5 and self.get_target_for_label(test_data.Label[i]) == 0):\n",
    "                correct += 1\n",
    "            # calculate our sampling rate\n",
    "            reviews_per_second = i / float(time.time() - start + 0.001)\n",
    "            # print out the validation metrics\n",
    "            sys.stdout.write(\"\\rProgress:\" + str(100 * i/float(test_data.shape[0]))[:4] + \"%\"\n",
    "                             + \" Speed(reviews/sec):\" + str(reviews_per_second)[0:5] \n",
    "                             + \" #Correct:\" + str(correct) \n",
    "                             + \" #Tested:\" + str(i+1) \n",
    "                             + \" Testing Accuracy:\" + str(correct * 100 / float(i+1))[:4] + \"%\")\n",
    " \n",
    "            print(\"\")\n",
    "    \n",
    "    def run(self, input_data):\n",
    "        # total losses for sample\n",
    "        loss = 0\n",
    "        # iterate through all training samples\n",
    "        for i in range(0, input_data.shape[0]):\n",
    "            # get prediction\n",
    "            pred = self.predict(input_data.Text[i])\n",
    "            # calculate the loss\n",
    "            loss += np.mean(np.square((pred - self.get_target_for_label(input_data.Label[i]))))\n",
    "        return loss/float(input_data.shape[0]) \n",
    "\n",
    "            \n",
    "    def predict(self, text):\n",
    "        ### Forward pass ###\n",
    "        # Input Layer\n",
    "        self.update_input_layer(text)\n",
    "        # Hidden layer\n",
    "        self.hidden_layer = self.vocab_vector.dot(self.weights_i_h)\n",
    "        # output layer\n",
    "        output_layer = self.sigmoid(self.hidden_layer.dot(self.weights_h_o))\n",
    "        \n",
    "        return output_layer.flatten()\n",
    "        \n",
    "    def visualise_training(self):\n",
    "        plt.plot(self.losses['train'], label='Training loss')\n",
    "        plt.legend()\n",
    "                             \n",
    "    def pre_process_data(self, training_data):\n",
    "        vocab = set()\n",
    "        \n",
    "        for review in training_data.Text:\n",
    "            for word in review.split(\" \"):\n",
    "                vocab.add(word)\n",
    "                \n",
    "        self.vocab = list(vocab)\n",
    "        \n",
    "        self.word_to_column = {}\n",
    "        for i, word in enumerate(self.vocab):\n",
    "            self.word_to_column[word] = i\n",
    "            \n",
    "    def update_input_layer(self, text):\n",
    "        # clear out previous state, reset the vector to be all 0s\n",
    "        self.vocab_vector *= 0\n",
    "        for word in text.split(\" \"):\n",
    "            if(word in self.word_to_column.keys()):\n",
    "                self.vocab_vector[0][self.word_to_column[word]] = 1\n",
    "            \n",
    "    def get_target_for_label(self, label):\n",
    "        if(label == 'POSITIVE'):\n",
    "            return 1\n",
    "        elif(label == 'NEGATIVE'):\n",
    "            return 0\n",
    "    \n",
    "    def sigmoid(self,x):\n",
    "        return 1 / (1 + np.exp(-x))\n",
    "    \n",
    "    def sigmoid_derivative(self,x):\n",
    "        return x * (1 - x)   "
   ]
  },
  {
   "cell_type": "code",
   "execution_count": 165,
   "metadata": {
    "collapsed": false
   },
   "outputs": [],
   "source": [
    "nn = SentimentalNeuralNetwork(training_data, num_hidden_nodes=10, num_epochs=2, learning_rate=0.001)"
   ]
  },
  {
   "cell_type": "markdown",
   "metadata": {},
   "source": [
    "Make sure you check for any biasness before training. We should have a **50-50** chance for both `POSITIVE` and `NEGATIVE` reviews. This is because the network hasn't even trained yet and what it is outputing is basically guesswork.\n",
    "\n",
    "**NB** In general starting from a non-biased point like this is very desirable."
   ]
  },
  {
   "cell_type": "code",
   "execution_count": 151,
   "metadata": {
    "collapsed": false
   },
   "outputs": [
    {
     "name": "stdout",
     "output_type": "stream",
     "text": [
      "Progress:99.9% Speed(reviews/sec):768.2 #Correct:2898 #Tested:6018 Testing Accuracy:48.1%"
     ]
    }
   ],
   "source": [
    "nn.test(test_data)"
   ]
  },
  {
   "cell_type": "code",
   "execution_count": 152,
   "metadata": {
    "collapsed": false
   },
   "outputs": [
    {
     "name": "stdout",
     "output_type": "stream",
     "text": [
      "Epoch: 0 Progress: 99.9% Speed(samples/sec): 156.4 #Correct: 51470 #Trained: 70000 Training Accuracy: 73.5%\n",
      "Epoch: 1 Progress: 99.9% Speed(samples/sec): 160.4 #Correct: 56975 #Trained: 70000 Training Accuracy: 81.3%\n"
     ]
    }
   ],
   "source": [
    "nn.train()"
   ]
  },
  {
   "cell_type": "markdown",
   "metadata": {},
   "source": [
    "Network has already been trained, and obviously we now don't expect a **50-50** performance but something much better if indeed the newtork has learned."
   ]
  },
  {
   "cell_type": "code",
   "execution_count": 158,
   "metadata": {
    "collapsed": false
   },
   "outputs": [
    {
     "name": "stdout",
     "output_type": "stream",
     "text": [
      "Progress:99.9% Speed(reviews/sec):772.6 #Correct:4814 #Tested:6018 Testing Accuracy:79.9%"
     ]
    }
   ],
   "source": [
    "nn.test(test_data)"
   ]
  },
  {
   "cell_type": "markdown",
   "metadata": {},
   "source": [
    " A graph of training loss against the no. of epochs. "
   ]
  },
  {
   "cell_type": "code",
   "execution_count": 159,
   "metadata": {
    "collapsed": false
   },
   "outputs": [
    {
     "data": {
      "image/png": "[encoded data removed]",
      "text/plain": [
       "<matplotlib.figure.Figure at 0x1f6a14a8940>"
      ]
     },
     "metadata": {
      "image/png": {
       "height": 250,
       "width": 380
      }
     },
     "output_type": "display_data"
    }
   ],
   "source": [
    "nn.visualise_training()"
   ]
  },
  {
   "cell_type": "code",
   "execution_count": 163,
   "metadata": {
    "collapsed": false
   },
   "outputs": [
    {
     "data": {
      "text/plain": [
       "array([ 0.28308101])"
      ]
     },
     "execution_count": 163,
     "metadata": {},
     "output_type": "execute_result"
    }
   ],
   "source": [
    "nn.predict(\"This product sucks!! I bought it and it proved disgusting. Do not buy this rip-off.\")"
   ]
  },
  {
   "cell_type": "code",
   "execution_count": 164,
   "metadata": {
    "collapsed": false
   },
   "outputs": [
    {
     "data": {
      "text/plain": [
       "array([ 0.76804277])"
      ]
     },
     "execution_count": 164,
     "metadata": {},
     "output_type": "execute_result"
    }
   ],
   "source": [
    "nn.predict(\"Wondeful and very awesome quality product\")"
   ]
  },
  {
   "cell_type": "code",
   "execution_count": null,
   "metadata": {
    "collapsed": true
   },
   "outputs": [],
   "source": []
  }
 ],
 "metadata": {
  "anaconda-cloud": {},
  "kernelspec": {
   "display_name": "Python [conda root]",
   "language": "python",
   "name": "conda-root-py"
  },
  "language_info": {
   "codemirror_mode": {
    "name": "ipython",
    "version": 3
   },
   "file_extension": ".py",
   "mimetype": "text/x-python",
   "name": "python",
   "nbconvert_exporter": "python",
   "pygments_lexer": "ipython3",
   "version": "3.5.2"
  }
 },
 "nbformat": 4,
 "nbformat_minor": 1
}
