{
 "cells": [
  {
   "cell_type": "markdown",
   "metadata": {},
   "source": [
    "## Efficient Low Noise Naive Bayes"
   ]
  },
  {
   "cell_type": "code",
   "execution_count": 966,
   "metadata": {
    "collapsed": false
   },
   "outputs": [],
   "source": [
    "%matplotlib inline\n",
    "%config InlineBackend.figure_format = 'retina'\n",
    "\n",
    "from sklearn import preprocessing\n",
    "import matplotlib.pyplot as plt\n",
    "import numpy as np\n",
    "import pandas as pd\n",
    "from collections import Counter\n",
    "from IPython.display import Image\n",
    "from itertools import dropwhile\n",
    "from sklearn import metrics\n",
    "import pprint as pp\n",
    "import random\n",
    "import time\n",
    "import sys\n",
    "import os\n",
    "try:\n",
    "   import cPickle as cPickle\n",
    "except:\n",
    "   import pickle as cPickle"
   ]
  },
  {
   "cell_type": "markdown",
   "metadata": {},
   "source": [
    "### Load data"
   ]
  },
  {
   "cell_type": "code",
   "execution_count": 1029,
   "metadata": {
    "collapsed": false
   },
   "outputs": [],
   "source": [
    "data = pd.read_csv('dataset/processed_pos_neg_reviews.csv', encoding='latin-1')"
   ]
  },
  {
   "cell_type": "code",
   "execution_count": 1030,
   "metadata": {
    "collapsed": false
   },
   "outputs": [
    {
     "data": {
      "text/html": [
       "<div>\n",
       "<table border=\"1\" class=\"dataframe\">\n",
       "  <thead>\n",
       "    <tr style=\"text-align: right;\">\n",
       "      <th></th>\n",
       "      <th>ProductId</th>\n",
       "      <th>Rating</th>\n",
       "      <th>Summary</th>\n",
       "      <th>Text</th>\n",
       "      <th>Label</th>\n",
       "    </tr>\n",
       "  </thead>\n",
       "  <tbody>\n",
       "    <tr>\n",
       "      <th>0</th>\n",
       "      <td>B004779XNW</td>\n",
       "      <td>5</td>\n",
       "      <td>Best K cup Coffee</td>\n",
       "      <td>I like almost all of the Green Mountain coffee...</td>\n",
       "      <td>POSITIVE</td>\n",
       "    </tr>\n",
       "    <tr>\n",
       "      <th>1</th>\n",
       "      <td>B00813GRG4</td>\n",
       "      <td>1</td>\n",
       "      <td>Not as Advertised</td>\n",
       "      <td>Product arrived labeled as Jumbo Salted Peanut...</td>\n",
       "      <td>NEGATIVE</td>\n",
       "    </tr>\n",
       "    <tr>\n",
       "      <th>2</th>\n",
       "      <td>B000JGLE0U</td>\n",
       "      <td>4</td>\n",
       "      <td>yummy cakes</td>\n",
       "      <td>These cakes were really good and small enough ...</td>\n",
       "      <td>POSITIVE</td>\n",
       "    </tr>\n",
       "    <tr>\n",
       "      <th>3</th>\n",
       "      <td>B000UA0QIQ</td>\n",
       "      <td>2</td>\n",
       "      <td>Cough Medicine</td>\n",
       "      <td>If you are looking for the secret ingredient i...</td>\n",
       "      <td>NEGATIVE</td>\n",
       "    </tr>\n",
       "    <tr>\n",
       "      <th>4</th>\n",
       "      <td>B001VJ0B0I</td>\n",
       "      <td>5</td>\n",
       "      <td>Read before you buy</td>\n",
       "      <td>First of all, it lists the ingredients right h...</td>\n",
       "      <td>POSITIVE</td>\n",
       "    </tr>\n",
       "  </tbody>\n",
       "</table>\n",
       "</div>"
      ],
      "text/plain": [
       "    ProductId  Rating              Summary  \\\n",
       "0  B004779XNW       5    Best K cup Coffee   \n",
       "1  B00813GRG4       1    Not as Advertised   \n",
       "2  B000JGLE0U       4          yummy cakes   \n",
       "3  B000UA0QIQ       2       Cough Medicine   \n",
       "4  B001VJ0B0I       5  Read before you buy   \n",
       "\n",
       "                                                Text     Label  \n",
       "0  I like almost all of the Green Mountain coffee...  POSITIVE  \n",
       "1  Product arrived labeled as Jumbo Salted Peanut...  NEGATIVE  \n",
       "2  These cakes were really good and small enough ...  POSITIVE  \n",
       "3  If you are looking for the secret ingredient i...  NEGATIVE  \n",
       "4  First of all, it lists the ingredients right h...  POSITIVE  "
      ]
     },
     "execution_count": 1030,
     "metadata": {},
     "output_type": "execute_result"
    }
   ],
   "source": [
    "data.head()"
   ]
  },
  {
   "cell_type": "code",
   "execution_count": 1031,
   "metadata": {
    "collapsed": false
   },
   "outputs": [
    {
     "data": {
      "text/plain": [
       "NEGATIVE    82037\n",
       "POSITIVE    82037\n",
       "Name: Label, dtype: int64"
      ]
     },
     "execution_count": 1031,
     "metadata": {},
     "output_type": "execute_result"
    }
   ],
   "source": [
    "data.Label.value_counts()"
   ]
  },
  {
   "cell_type": "markdown",
   "metadata": {},
   "source": [
    "### Data Preparation"
   ]
  },
  {
   "cell_type": "markdown",
   "metadata": {},
   "source": [
    "Training Data"
   ]
  },
  {
   "cell_type": "code",
   "execution_count": 1032,
   "metadata": {
    "collapsed": false,
    "scrolled": true
   },
   "outputs": [
    {
     "data": {
      "text/html": [
       "<div>\n",
       "<table border=\"1\" class=\"dataframe\">\n",
       "  <thead>\n",
       "    <tr style=\"text-align: right;\">\n",
       "      <th></th>\n",
       "      <th>ProductId</th>\n",
       "      <th>Rating</th>\n",
       "      <th>Summary</th>\n",
       "      <th>Text</th>\n",
       "      <th>Label</th>\n",
       "    </tr>\n",
       "  </thead>\n",
       "  <tbody>\n",
       "    <tr>\n",
       "      <th>0</th>\n",
       "      <td>B004779XNW</td>\n",
       "      <td>5</td>\n",
       "      <td>Best K cup Coffee</td>\n",
       "      <td>I like almost all of the Green Mountain coffee...</td>\n",
       "      <td>POSITIVE</td>\n",
       "    </tr>\n",
       "    <tr>\n",
       "      <th>1</th>\n",
       "      <td>B00813GRG4</td>\n",
       "      <td>1</td>\n",
       "      <td>Not as Advertised</td>\n",
       "      <td>Product arrived labeled as Jumbo Salted Peanut...</td>\n",
       "      <td>NEGATIVE</td>\n",
       "    </tr>\n",
       "    <tr>\n",
       "      <th>2</th>\n",
       "      <td>B000JGLE0U</td>\n",
       "      <td>4</td>\n",
       "      <td>yummy cakes</td>\n",
       "      <td>These cakes were really good and small enough ...</td>\n",
       "      <td>POSITIVE</td>\n",
       "    </tr>\n",
       "    <tr>\n",
       "      <th>3</th>\n",
       "      <td>B000UA0QIQ</td>\n",
       "      <td>2</td>\n",
       "      <td>Cough Medicine</td>\n",
       "      <td>If you are looking for the secret ingredient i...</td>\n",
       "      <td>NEGATIVE</td>\n",
       "    </tr>\n",
       "    <tr>\n",
       "      <th>4</th>\n",
       "      <td>B001VJ0B0I</td>\n",
       "      <td>5</td>\n",
       "      <td>Read before you buy</td>\n",
       "      <td>First of all, it lists the ingredients right h...</td>\n",
       "      <td>POSITIVE</td>\n",
       "    </tr>\n",
       "  </tbody>\n",
       "</table>\n",
       "</div>"
      ],
      "text/plain": [
       "    ProductId  Rating              Summary  \\\n",
       "0  B004779XNW       5    Best K cup Coffee   \n",
       "1  B00813GRG4       1    Not as Advertised   \n",
       "2  B000JGLE0U       4          yummy cakes   \n",
       "3  B000UA0QIQ       2       Cough Medicine   \n",
       "4  B001VJ0B0I       5  Read before you buy   \n",
       "\n",
       "                                                Text     Label  \n",
       "0  I like almost all of the Green Mountain coffee...  POSITIVE  \n",
       "1  Product arrived labeled as Jumbo Salted Peanut...  NEGATIVE  \n",
       "2  These cakes were really good and small enough ...  POSITIVE  \n",
       "3  If you are looking for the secret ingredient i...  NEGATIVE  \n",
       "4  First of all, it lists the ingredients right h...  POSITIVE  "
      ]
     },
     "execution_count": 1032,
     "metadata": {},
     "output_type": "execute_result"
    }
   ],
   "source": [
    "# first 70000 reviews\n",
    "training_data = data[0:70000].reset_index(drop=True)\n",
    "training_data_length = training_data.shape[0]\n",
    "training_data.head()"
   ]
  },
  {
   "cell_type": "markdown",
   "metadata": {},
   "source": [
    "Shape of training data"
   ]
  },
  {
   "cell_type": "code",
   "execution_count": 1033,
   "metadata": {
    "collapsed": false
   },
   "outputs": [
    {
     "name": "stdout",
     "output_type": "stream",
     "text": [
      "(70000, 5)\n",
      "(70000,)\n"
     ]
    }
   ],
   "source": [
    "pp.pprint(training_data.shape)\n",
    "pp.pprint(training_data.Label.shape)"
   ]
  },
  {
   "cell_type": "markdown",
   "metadata": {},
   "source": [
    "Validation Data"
   ]
  },
  {
   "cell_type": "code",
   "execution_count": 1034,
   "metadata": {
    "collapsed": false
   },
   "outputs": [
    {
     "data": {
      "text/html": [
       "<div>\n",
       "<table border=\"1\" class=\"dataframe\">\n",
       "  <thead>\n",
       "    <tr style=\"text-align: right;\">\n",
       "      <th></th>\n",
       "      <th>ProductId</th>\n",
       "      <th>Rating</th>\n",
       "      <th>Summary</th>\n",
       "      <th>Text</th>\n",
       "      <th>Label</th>\n",
       "    </tr>\n",
       "  </thead>\n",
       "  <tbody>\n",
       "    <tr>\n",
       "      <th>0</th>\n",
       "      <td>B001LGGH40</td>\n",
       "      <td>4</td>\n",
       "      <td>Refreshing, but a tad too sweet</td>\n",
       "      <td>Nice refreshing beverage but with 120 cal a bi...</td>\n",
       "      <td>POSITIVE</td>\n",
       "    </tr>\n",
       "    <tr>\n",
       "      <th>1</th>\n",
       "      <td>B001VJ0B0I</td>\n",
       "      <td>2</td>\n",
       "      <td>Gross by-products, sugar, and food colorings--...</td>\n",
       "      <td>I completely agree that the ingredients for th...</td>\n",
       "      <td>NEGATIVE</td>\n",
       "    </tr>\n",
       "    <tr>\n",
       "      <th>2</th>\n",
       "      <td>B004U7QQFC</td>\n",
       "      <td>5</td>\n",
       "      <td>My favorite coffeee</td>\n",
       "      <td>Just goes to show everyone has different taste...</td>\n",
       "      <td>POSITIVE</td>\n",
       "    </tr>\n",
       "    <tr>\n",
       "      <th>3</th>\n",
       "      <td>B001VJ0B0I</td>\n",
       "      <td>2</td>\n",
       "      <td>Read the Ingredient List</td>\n",
       "      <td>Make sure you read the list of ingredients bef...</td>\n",
       "      <td>NEGATIVE</td>\n",
       "    </tr>\n",
       "    <tr>\n",
       "      <th>4</th>\n",
       "      <td>B000EFHST2</td>\n",
       "      <td>5</td>\n",
       "      <td>Yummy!</td>\n",
       "      <td>The fastest and easiest Hamburger Helper I've ...</td>\n",
       "      <td>POSITIVE</td>\n",
       "    </tr>\n",
       "  </tbody>\n",
       "</table>\n",
       "</div>"
      ],
      "text/plain": [
       "    ProductId  Rating                                            Summary  \\\n",
       "0  B001LGGH40       4                    Refreshing, but a tad too sweet   \n",
       "1  B001VJ0B0I       2  Gross by-products, sugar, and food colorings--...   \n",
       "2  B004U7QQFC       5                                My favorite coffeee   \n",
       "3  B001VJ0B0I       2                           Read the Ingredient List   \n",
       "4  B000EFHST2       5                                             Yummy!   \n",
       "\n",
       "                                                Text     Label  \n",
       "0  Nice refreshing beverage but with 120 cal a bi...  POSITIVE  \n",
       "1  I completely agree that the ingredients for th...  NEGATIVE  \n",
       "2  Just goes to show everyone has different taste...  POSITIVE  \n",
       "3  Make sure you read the list of ingredients bef...  NEGATIVE  \n",
       "4  The fastest and easiest Hamburger Helper I've ...  POSITIVE  "
      ]
     },
     "execution_count": 1034,
     "metadata": {},
     "output_type": "execute_result"
    }
   ],
   "source": [
    "# middle 35000 reviews\n",
    "validation_data = data[70000:76019].reset_index(drop=True)\n",
    "validation_data_length = validation_data.shape[0]\n",
    "validation_data.head()"
   ]
  },
  {
   "cell_type": "markdown",
   "metadata": {},
   "source": [
    "Shape of validation data"
   ]
  },
  {
   "cell_type": "code",
   "execution_count": 1035,
   "metadata": {
    "collapsed": false
   },
   "outputs": [
    {
     "name": "stdout",
     "output_type": "stream",
     "text": [
      "(6019, 5)\n",
      "(6019,)\n"
     ]
    }
   ],
   "source": [
    "pp.pprint(validation_data.shape)\n",
    "pp.pprint(validation_data.Label.shape)"
   ]
  },
  {
   "cell_type": "markdown",
   "metadata": {},
   "source": [
    "Testing data"
   ]
  },
  {
   "cell_type": "code",
   "execution_count": 1036,
   "metadata": {
    "collapsed": false
   },
   "outputs": [
    {
     "data": {
      "text/html": [
       "<div>\n",
       "<table border=\"1\" class=\"dataframe\">\n",
       "  <thead>\n",
       "    <tr style=\"text-align: right;\">\n",
       "      <th></th>\n",
       "      <th>ProductId</th>\n",
       "      <th>Rating</th>\n",
       "      <th>Summary</th>\n",
       "      <th>Text</th>\n",
       "      <th>Label</th>\n",
       "    </tr>\n",
       "  </thead>\n",
       "  <tbody>\n",
       "    <tr>\n",
       "      <th>0</th>\n",
       "      <td>B003NV2IG2</td>\n",
       "      <td>2</td>\n",
       "      <td>Inconsistent Taste</td>\n",
       "      <td>I first tasted Annie Chun's seaweed three year...</td>\n",
       "      <td>NEGATIVE</td>\n",
       "    </tr>\n",
       "    <tr>\n",
       "      <th>1</th>\n",
       "      <td>B000ODH4BG</td>\n",
       "      <td>5</td>\n",
       "      <td>Not meant to be a meal, but a terrific filler</td>\n",
       "      <td>This soup is great tasting.  It does contain q...</td>\n",
       "      <td>POSITIVE</td>\n",
       "    </tr>\n",
       "    <tr>\n",
       "      <th>2</th>\n",
       "      <td>B003NV2IG2</td>\n",
       "      <td>2</td>\n",
       "      <td>Nothing like sushi, that's for sure</td>\n",
       "      <td>For me, these were a total bust. The texture s...</td>\n",
       "      <td>NEGATIVE</td>\n",
       "    </tr>\n",
       "    <tr>\n",
       "      <th>3</th>\n",
       "      <td>B005GIF5VU</td>\n",
       "      <td>4</td>\n",
       "      <td>The only treats my cat will eat</td>\n",
       "      <td>So my Mom often buys bags of kitty treats for ...</td>\n",
       "      <td>POSITIVE</td>\n",
       "    </tr>\n",
       "    <tr>\n",
       "      <th>4</th>\n",
       "      <td>B003NV2IG2</td>\n",
       "      <td>2</td>\n",
       "      <td>Mediocre for Seaweed Snacking</td>\n",
       "      <td>This is one of many varieties of seaweed snack...</td>\n",
       "      <td>NEGATIVE</td>\n",
       "    </tr>\n",
       "  </tbody>\n",
       "</table>\n",
       "</div>"
      ],
      "text/plain": [
       "    ProductId  Rating                                        Summary  \\\n",
       "0  B003NV2IG2       2                             Inconsistent Taste   \n",
       "1  B000ODH4BG       5  Not meant to be a meal, but a terrific filler   \n",
       "2  B003NV2IG2       2            Nothing like sushi, that's for sure   \n",
       "3  B005GIF5VU       4                The only treats my cat will eat   \n",
       "4  B003NV2IG2       2                  Mediocre for Seaweed Snacking   \n",
       "\n",
       "                                                Text     Label  \n",
       "0  I first tasted Annie Chun's seaweed three year...  NEGATIVE  \n",
       "1  This soup is great tasting.  It does contain q...  POSITIVE  \n",
       "2  For me, these were a total bust. The texture s...  NEGATIVE  \n",
       "3  So my Mom often buys bags of kitty treats for ...  POSITIVE  \n",
       "4  This is one of many varieties of seaweed snack...  NEGATIVE  "
      ]
     },
     "execution_count": 1036,
     "metadata": {},
     "output_type": "execute_result"
    }
   ],
   "source": [
    "# last 6018 reviews\n",
    "test_data = data[76019:82037].reset_index(drop=True)\n",
    "test_data_length = test_data.shape[0]\n",
    "test_data.head()"
   ]
  },
  {
   "cell_type": "markdown",
   "metadata": {},
   "source": [
    "Shape of Testing data"
   ]
  },
  {
   "cell_type": "code",
   "execution_count": 1037,
   "metadata": {
    "collapsed": false
   },
   "outputs": [
    {
     "name": "stdout",
     "output_type": "stream",
     "text": [
      "(6018, 5)\n",
      "(6018,)\n"
     ]
    }
   ],
   "source": [
    "pp.pprint(test_data.shape)\n",
    "pp.pprint(test_data.Label.shape)"
   ]
  },
  {
   "cell_type": "markdown",
   "metadata": {},
   "source": [
    "### Building the Naive Bayes Classifier"
   ]
  },
  {
   "cell_type": "markdown",
   "metadata": {},
   "source": [
    "### Calculate the Priors"
   ]
  },
  {
   "cell_type": "markdown",
   "metadata": {},
   "source": [
    "These are simply the propbability of text having \"POSITIVE\" or \"NEGATIVE\" sentiment"
   ]
  },
  {
   "cell_type": "code",
   "execution_count": 1038,
   "metadata": {
    "collapsed": true
   },
   "outputs": [],
   "source": [
    "# total positive reviews in training set\n",
    "r_positive = training_data.Label[training_data.Label == \"POSITIVE\"].count()\n",
    "# total negative reviews in training set\n",
    "r_negative = training_data.Label[training_data.Label == \"NEGATIVE\"].count()\n",
    "# total reviews in training set\n",
    "r_total = training_data.Label.count()"
   ]
  },
  {
   "cell_type": "code",
   "execution_count": 1039,
   "metadata": {
    "collapsed": false
   },
   "outputs": [
    {
     "data": {
      "text/plain": [
       "35000"
      ]
     },
     "execution_count": 1039,
     "metadata": {},
     "output_type": "execute_result"
    }
   ],
   "source": [
    "r_positive"
   ]
  },
  {
   "cell_type": "code",
   "execution_count": 1040,
   "metadata": {
    "collapsed": false
   },
   "outputs": [
    {
     "data": {
      "text/plain": [
       "35000"
      ]
     },
     "execution_count": 1040,
     "metadata": {},
     "output_type": "execute_result"
    }
   ],
   "source": [
    "r_negative"
   ]
  },
  {
   "cell_type": "code",
   "execution_count": 1041,
   "metadata": {
    "collapsed": false
   },
   "outputs": [
    {
     "data": {
      "text/plain": [
       "70000"
      ]
     },
     "execution_count": 1041,
     "metadata": {},
     "output_type": "execute_result"
    }
   ],
   "source": [
    "r_total"
   ]
  },
  {
   "cell_type": "code",
   "execution_count": 1042,
   "metadata": {
    "collapsed": false
   },
   "outputs": [
    {
     "data": {
      "text/html": [
       "<div>\n",
       "<table border=\"1\" class=\"dataframe\">\n",
       "  <thead>\n",
       "    <tr style=\"text-align: right;\">\n",
       "      <th></th>\n",
       "      <th>ProductId</th>\n",
       "      <th>Rating</th>\n",
       "      <th>Summary</th>\n",
       "      <th>Text</th>\n",
       "      <th>Label</th>\n",
       "    </tr>\n",
       "  </thead>\n",
       "  <tbody>\n",
       "    <tr>\n",
       "      <th>0</th>\n",
       "      <td>B004779XNW</td>\n",
       "      <td>5</td>\n",
       "      <td>Best K cup Coffee</td>\n",
       "      <td>I like almost all of the Green Mountain coffee...</td>\n",
       "      <td>POSITIVE</td>\n",
       "    </tr>\n",
       "    <tr>\n",
       "      <th>1</th>\n",
       "      <td>B00813GRG4</td>\n",
       "      <td>1</td>\n",
       "      <td>Not as Advertised</td>\n",
       "      <td>Product arrived labeled as Jumbo Salted Peanut...</td>\n",
       "      <td>NEGATIVE</td>\n",
       "    </tr>\n",
       "    <tr>\n",
       "      <th>2</th>\n",
       "      <td>B000JGLE0U</td>\n",
       "      <td>4</td>\n",
       "      <td>yummy cakes</td>\n",
       "      <td>These cakes were really good and small enough ...</td>\n",
       "      <td>POSITIVE</td>\n",
       "    </tr>\n",
       "    <tr>\n",
       "      <th>3</th>\n",
       "      <td>B000UA0QIQ</td>\n",
       "      <td>2</td>\n",
       "      <td>Cough Medicine</td>\n",
       "      <td>If you are looking for the secret ingredient i...</td>\n",
       "      <td>NEGATIVE</td>\n",
       "    </tr>\n",
       "    <tr>\n",
       "      <th>4</th>\n",
       "      <td>B001VJ0B0I</td>\n",
       "      <td>5</td>\n",
       "      <td>Read before you buy</td>\n",
       "      <td>First of all, it lists the ingredients right h...</td>\n",
       "      <td>POSITIVE</td>\n",
       "    </tr>\n",
       "  </tbody>\n",
       "</table>\n",
       "</div>"
      ],
      "text/plain": [
       "    ProductId  Rating              Summary  \\\n",
       "0  B004779XNW       5    Best K cup Coffee   \n",
       "1  B00813GRG4       1    Not as Advertised   \n",
       "2  B000JGLE0U       4          yummy cakes   \n",
       "3  B000UA0QIQ       2       Cough Medicine   \n",
       "4  B001VJ0B0I       5  Read before you buy   \n",
       "\n",
       "                                                Text     Label  \n",
       "0  I like almost all of the Green Mountain coffee...  POSITIVE  \n",
       "1  Product arrived labeled as Jumbo Salted Peanut...  NEGATIVE  \n",
       "2  These cakes were really good and small enough ...  POSITIVE  \n",
       "3  If you are looking for the secret ingredient i...  NEGATIVE  \n",
       "4  First of all, it lists the ingredients right h...  POSITIVE  "
      ]
     },
     "execution_count": 1042,
     "metadata": {},
     "output_type": "execute_result"
    }
   ],
   "source": [
    "# Drop some unwanted columns that do not provide insight\n",
    "training_data.head()"
   ]
  },
  {
   "cell_type": "code",
   "execution_count": 1043,
   "metadata": {
    "collapsed": true
   },
   "outputs": [],
   "source": [
    "# Drop some unwanted columns that do not provide insight\n",
    "training_data_modified = training_data.drop([\"ProductId\", \"Rating\", \"Summary\"], axis=1)\n",
    "# Drop some unwanted columns that do not provide insight\n",
    "test_data_modified = test_data.drop([\"ProductId\", \"Rating\", \"Summary\"], axis=1)\n",
    "# Drop some unwanted columns that do not provide insight\n",
    "validation_data_modified = validation_data.drop([\"ProductId\", \"Rating\", \"Summary\"], axis=1)"
   ]
  },
  {
   "cell_type": "code",
   "execution_count": 1044,
   "metadata": {
    "collapsed": true
   },
   "outputs": [],
   "source": [
    "# r_positive/r_total\n",
    "p_positive = r_positive/r_total\n",
    "# r_negative/r_total\n",
    "p_negative = r_negative/r_total"
   ]
  },
  {
   "cell_type": "markdown",
   "metadata": {},
   "source": [
    "### Calculate the Likelihood"
   ]
  },
  {
   "cell_type": "code",
   "execution_count": 1045,
   "metadata": {
    "collapsed": false
   },
   "outputs": [
    {
     "data": {
      "text/plain": [
       "array([ \"This soup is great tasting.  It does contain quite a bit of sodium, but for those who think it is too salty can add more water to adjust the taste to their liking.  Also, as many others have previously stated, there is a severe lack in meat, vegetables, and even the noodles...what do you expect from a soup that came from a box?  A gourmet meal is not very likely.  Overall, this soup is great and quick to make.  Many can use the soup on the go as a snack to hold them over for an actual meal or even a late night snack for those who don't feel like eating a meal.  This product in my opinion, is great for busy bodies who sometimes have to skip or hold off a meal.\",\n",
       "       'POSITIVE'], dtype=object)"
      ]
     },
     "execution_count": 1045,
     "metadata": {},
     "output_type": "execute_result"
    }
   ],
   "source": [
    "training_array = training_data_modified.values\n",
    "test_array = test_data_modified.values\n",
    "validation_array = validation_data_modified.values\n",
    "test_array[1]"
   ]
  },
  {
   "cell_type": "code",
   "execution_count": 1046,
   "metadata": {
    "collapsed": false
   },
   "outputs": [
    {
     "data": {
      "text/plain": [
       "array(['POSITIVE', 'NEGATIVE', 'POSITIVE', ..., 'NEGATIVE', 'POSITIVE',\n",
       "       'NEGATIVE'], dtype=object)"
      ]
     },
     "execution_count": 1046,
     "metadata": {},
     "output_type": "execute_result"
    }
   ],
   "source": [
    "np.unique(training_array[1][1])\n",
    "training_array[:,1]"
   ]
  },
  {
   "cell_type": "code",
   "execution_count": 1047,
   "metadata": {
    "collapsed": false
   },
   "outputs": [],
   "source": [
    "class BinaryNBClassifier(object):\n",
    "    def __init__(self):\n",
    "        self.polar_cutoff = 0.2\n",
    "        self.min_count = 50\n",
    "        self.max_count = 30000\n",
    "        # size of {POSITIVE: count, MEGATIVE: count} reviews\n",
    "        self.label_instance_counts = Counter()\n",
    "        # dict for pos/neg worrd counts\n",
    "        self.feature_counts = {}\n",
    "        # dict for word probabilities for each label\n",
    "        \n",
    "    def pre_process_data(self, training_XY):\n",
    "        # training data size\n",
    "        self.training_size = training_XY.shape[0]\n",
    "        # size of NEGATIVE reviews\n",
    "        positive_word_counts = Counter()\n",
    "        # frequency of words in positive reviews\n",
    "        positive_word_counts = Counter()\n",
    "        # frequency of words in negative reviews\n",
    "        negative_word_counts = Counter()\n",
    "        # frequency of words in all reviews\n",
    "        total_word_counts = Counter()\n",
    "        \n",
    "        # get the counts of words in each sentiment\n",
    "        for i in range(self.training_size ):\n",
    "            if(training_XY[i][1] == 'POSITIVE'):\n",
    "                # unique, counts = np.unique(a, return_counts=True)\n",
    "                self.label_instance_counts[training_XY[i][1]] += 1\n",
    "                for word in training_XY[i][0].split(\" \"):\n",
    "                    positive_word_counts[word] += 1\n",
    "                    total_word_counts[word] += 1\n",
    "            if(training_XY[i][1] == 'NEGATIVE'):\n",
    "                self.label_instance_counts[training_XY[i][1]] += 1\n",
    "                for word in training_XY[i][0].split(\" \"):\n",
    "                    negative_word_counts[word] += 1\n",
    "                    total_word_counts[word] += 1\n",
    "        \n",
    "        # eliminate noise words\n",
    "        negative_word_counts = {key:value for key, value in negative_word_counts.items() if value > self.min_count and value < self.max_count}\n",
    "        positive_word_counts = {key:value for key, value in positive_word_counts.items() if value > self.min_count and value < self.max_count}\n",
    "       \n",
    "        self.feature_counts[\"POSITIVE\"] = positive_word_counts\n",
    "        self.feature_counts[\"NEGATIVE\"] = negative_word_counts\n",
    "        #print(self.feature_counts[\"NEGATIVE\"])\n",
    "        \n",
    "\n",
    "    def predict_probabilities(self, text):\n",
    "        prediction_results = {}\n",
    "        text_counts = Counter(text.split(\" \"))\n",
    "        for label in self.feature_prior.keys():\n",
    "            likelihood_prob = 1\n",
    "            for word in text_counts:\n",
    "                # For every word in the text, we get the number of times that word occured in the reviews for a given class\n",
    "                occurence_count = text_counts.get(word)\n",
    "                # avoid missing word occurances\n",
    "                if word in self.feature_prior[label].keys():\n",
    "                    likelihood_prob *=  occurence_count * self.feature_prior[label][word]\n",
    "            # calculate probalities\n",
    "            # Now we multiply by the probability of the class existing in the documents.\n",
    "            prediction_results[label] = likelihood_prob * self.class_prior[label]\n",
    "        return prediction_results\n",
    "    \n",
    "    def test(self, test_data_XY):\n",
    "        df = pd.DataFrame(columns=['PREDICTION', 'LABEL'])\n",
    "        verdict = \"\"\n",
    "        for i in range(test_data_XY.shape[0]):\n",
    "            predictions_dict = self.predict_probabilities(test_data_XY[i][0])\n",
    "            if(predictions_dict[\"POSITIVE\"] > predictions_dict[\"NEGATIVE\"]):\n",
    "                verdict = \"POSITIVE\"\n",
    "            elif(predictions_dict[\"NEGATIVE\"] > predictions_dict[\"POSITIVE\"]):\n",
    "                verdict = \"NEGATIVE\"\n",
    "            else:\n",
    "                verdict = \"NEUTRAL\"\n",
    "            df = df.append({\"PREDICTION\": verdict, \"LABEL\":  test_data_XY[i][1]}, ignore_index=True)\n",
    "        return df\n",
    "       \n",
    "\n",
    "    def fit(self, training_XY):\n",
    "        # pre-process data\n",
    "        self.pre_process_data(training_XY)\n",
    "        # class prior\n",
    "        self.class_prior = {key: self.label_instance_counts[key] / self.training_size for key in self.label_instance_counts.keys()}\n",
    "        # feature prior\n",
    "        self.feature_prior = {label: {word_key: self.feature_counts[label][word_key] / len(self.feature_counts[label]) for word_key in self.feature_counts[label].keys()} for label in self.feature_counts.keys()}\n",
    "        # print probabilities for class and feature\n",
    "        #print(\"Class Prior: {} \\nFeature Prior: {}\".format(np.array(self.class_prior), np.array(self.feature_prior)))"
   ]
  },
  {
   "cell_type": "code",
   "execution_count": 1048,
   "metadata": {
    "collapsed": true
   },
   "outputs": [],
   "source": [
    "nBayes = BinaryNBClassifier()"
   ]
  },
  {
   "cell_type": "code",
   "execution_count": 1049,
   "metadata": {
    "collapsed": false
   },
   "outputs": [],
   "source": [
    "nBayes.fit(training_array)"
   ]
  },
  {
   "cell_type": "code",
   "execution_count": 1050,
   "metadata": {
    "collapsed": false
   },
   "outputs": [
    {
     "data": {
      "text/plain": [
       "{'NEGATIVE': 3.9234629732563476e-05, 'POSITIVE': 0.0004153809161042203}"
      ]
     },
     "execution_count": 1050,
     "metadata": {},
     "output_type": "execute_result"
    }
   ],
   "source": [
    "nBayes.predict_probabilities(\"Awesome, wondefully, excellent delivered enjoyable product\")"
   ]
  },
  {
   "cell_type": "code",
   "execution_count": 1051,
   "metadata": {
    "collapsed": false
   },
   "outputs": [
    {
     "data": {
      "text/plain": [
       "{'NEGATIVE': 5.480974290790589e-09, 'POSITIVE': 3.9498205449964203e-10}"
      ]
     },
     "execution_count": 1051,
     "metadata": {},
     "output_type": "execute_result"
    }
   ],
   "source": [
    "nBayes.predict_probabilities(\"Very poor quality. Product arrived while damaged with dents.I regret buying it\")"
   ]
  },
  {
   "cell_type": "code",
   "execution_count": 1052,
   "metadata": {
    "collapsed": false
   },
   "outputs": [],
   "source": [
    "data_test = nBayes.test(test_array)"
   ]
  },
  {
   "cell_type": "code",
   "execution_count": 1053,
   "metadata": {
    "collapsed": false
   },
   "outputs": [],
   "source": [
    "data_correct = data_test.loc[(data_test.PREDICTION == data_test.LABEL) ]"
   ]
  },
  {
   "cell_type": "code",
   "execution_count": 1054,
   "metadata": {
    "collapsed": false
   },
   "outputs": [
    {
     "data": {
      "text/plain": [
       "76.271186440677965"
      ]
     },
     "execution_count": 1054,
     "metadata": {},
     "output_type": "execute_result"
    }
   ],
   "source": [
    "test_accuracy = data_correct.LABEL.value_counts()[0] *100 / data_test.LABEL.value_counts()[0]\n",
    "test_accuracy"
   ]
  },
  {
   "cell_type": "code",
   "execution_count": null,
   "metadata": {
    "collapsed": true
   },
   "outputs": [],
   "source": []
  },
  {
   "cell_type": "code",
   "execution_count": null,
   "metadata": {
    "collapsed": true
   },
   "outputs": [],
   "source": []
  }
 ],
 "metadata": {
  "anaconda-cloud": {},
  "kernelspec": {
   "display_name": "Python [conda root]",
   "language": "python",
   "name": "conda-root-py"
  },
  "language_info": {
   "codemirror_mode": {
    "name": "ipython",
    "version": 3
   },
   "file_extension": ".py",
   "mimetype": "text/x-python",
   "name": "python",
   "nbconvert_exporter": "python",
   "pygments_lexer": "ipython3",
   "version": "3.5.2"
  }
 },
 "nbformat": 4,
 "nbformat_minor": 1
}
