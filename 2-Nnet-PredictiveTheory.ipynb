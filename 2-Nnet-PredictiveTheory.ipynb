{
 "cells": [
  {
   "cell_type": "markdown",
   "metadata": {},
   "source": [
    "## Predictive Theory"
   ]
  },
  {
   "cell_type": "code",
   "execution_count": 17,
   "metadata": {
    "collapsed": true
   },
   "outputs": [],
   "source": [
    "%matplotlib inline\n",
    "%config InlineBackend.figure_format = 'retina'\n",
    "\n",
    "from sklearn import preprocessing\n",
    "import matplotlib.pyplot as plt\n",
    "import numpy as np\n",
    "import pandas as pd\n",
    "from collections import Counter\n",
    "import pprint as pp\n",
    "import random\n",
    "import time\n",
    "import sys\n",
    "import os\n",
    "try:\n",
    "   import cPickle as cPickle\n",
    "except:\n",
    "   import pickle as cPickle"
   ]
  },
  {
   "cell_type": "markdown",
   "metadata": {},
   "source": [
    "### Load Data"
   ]
  },
  {
   "cell_type": "code",
   "execution_count": 18,
   "metadata": {
    "collapsed": true
   },
   "outputs": [],
   "source": [
    "data = pd.read_csv('dataset/processed_pos_neg_reviews.csv', encoding='latin-1')"
   ]
  },
  {
   "cell_type": "code",
   "execution_count": 19,
   "metadata": {
    "collapsed": false
   },
   "outputs": [
    {
     "data": {
      "text/plain": [
       "POSITIVE    82037\n",
       "NEGATIVE    82037\n",
       "Name: Label, dtype: int64"
      ]
     },
     "execution_count": 19,
     "metadata": {},
     "output_type": "execute_result"
    }
   ],
   "source": [
    "data.Label.value_counts()"
   ]
  },
  {
   "cell_type": "code",
   "execution_count": 20,
   "metadata": {
    "collapsed": false
   },
   "outputs": [
    {
     "data": {
      "text/html": [
       "<div>\n",
       "<table border=\"1\" class=\"dataframe\">\n",
       "  <thead>\n",
       "    <tr style=\"text-align: right;\">\n",
       "      <th></th>\n",
       "      <th>ProductId</th>\n",
       "      <th>Rating</th>\n",
       "      <th>Summary</th>\n",
       "      <th>Text</th>\n",
       "      <th>Label</th>\n",
       "    </tr>\n",
       "  </thead>\n",
       "  <tbody>\n",
       "    <tr>\n",
       "      <th>0</th>\n",
       "      <td>B001NXHY8Y</td>\n",
       "      <td>5</td>\n",
       "      <td>Daughter Approved</td>\n",
       "      <td>I was very upset when I was unable to find an ...</td>\n",
       "      <td>POSITIVE</td>\n",
       "    </tr>\n",
       "    <tr>\n",
       "      <th>1</th>\n",
       "      <td>B00813GRG4</td>\n",
       "      <td>1</td>\n",
       "      <td>Not as Advertised</td>\n",
       "      <td>Product arrived labeled as Jumbo Salted Peanut...</td>\n",
       "      <td>NEGATIVE</td>\n",
       "    </tr>\n",
       "    <tr>\n",
       "      <th>2</th>\n",
       "      <td>B001BS4G6O</td>\n",
       "      <td>4</td>\n",
       "      <td>Pretty good but you can do better</td>\n",
       "      <td>Pill pockets usually work well though sometime...</td>\n",
       "      <td>POSITIVE</td>\n",
       "    </tr>\n",
       "    <tr>\n",
       "      <th>3</th>\n",
       "      <td>B000UA0QIQ</td>\n",
       "      <td>2</td>\n",
       "      <td>Cough Medicine</td>\n",
       "      <td>If you are looking for the secret ingredient i...</td>\n",
       "      <td>NEGATIVE</td>\n",
       "    </tr>\n",
       "    <tr>\n",
       "      <th>4</th>\n",
       "      <td>B005HG9ET0</td>\n",
       "      <td>5</td>\n",
       "      <td>Great taste and refreshing</td>\n",
       "      <td>I'm an avid drinker of Smart Water because of ...</td>\n",
       "      <td>POSITIVE</td>\n",
       "    </tr>\n",
       "  </tbody>\n",
       "</table>\n",
       "</div>"
      ],
      "text/plain": [
       "    ProductId  Rating                            Summary  \\\n",
       "0  B001NXHY8Y       5                  Daughter Approved   \n",
       "1  B00813GRG4       1                  Not as Advertised   \n",
       "2  B001BS4G6O       4  Pretty good but you can do better   \n",
       "3  B000UA0QIQ       2                     Cough Medicine   \n",
       "4  B005HG9ET0       5         Great taste and refreshing   \n",
       "\n",
       "                                                Text     Label  \n",
       "0  I was very upset when I was unable to find an ...  POSITIVE  \n",
       "1  Product arrived labeled as Jumbo Salted Peanut...  NEGATIVE  \n",
       "2  Pill pockets usually work well though sometime...  POSITIVE  \n",
       "3  If you are looking for the secret ingredient i...  NEGATIVE  \n",
       "4  I'm an avid drinker of Smart Water because of ...  POSITIVE  "
      ]
     },
     "execution_count": 20,
     "metadata": {},
     "output_type": "execute_result"
    }
   ],
   "source": [
    "data.head()"
   ]
  },
  {
   "cell_type": "markdown",
   "metadata": {},
   "source": [
    "### Data Preparation"
   ]
  },
  {
   "cell_type": "markdown",
   "metadata": {},
   "source": [
    "Training Data"
   ]
  },
  {
   "cell_type": "code",
   "execution_count": 21,
   "metadata": {
    "collapsed": false
   },
   "outputs": [
    {
     "data": {
      "text/html": [
       "<div>\n",
       "<table border=\"1\" class=\"dataframe\">\n",
       "  <thead>\n",
       "    <tr style=\"text-align: right;\">\n",
       "      <th></th>\n",
       "      <th>ProductId</th>\n",
       "      <th>Rating</th>\n",
       "      <th>Summary</th>\n",
       "      <th>Text</th>\n",
       "      <th>Label</th>\n",
       "    </tr>\n",
       "  </thead>\n",
       "  <tbody>\n",
       "    <tr>\n",
       "      <th>0</th>\n",
       "      <td>B001NXHY8Y</td>\n",
       "      <td>5</td>\n",
       "      <td>Daughter Approved</td>\n",
       "      <td>I was very upset when I was unable to find an ...</td>\n",
       "      <td>POSITIVE</td>\n",
       "    </tr>\n",
       "    <tr>\n",
       "      <th>1</th>\n",
       "      <td>B00813GRG4</td>\n",
       "      <td>1</td>\n",
       "      <td>Not as Advertised</td>\n",
       "      <td>Product arrived labeled as Jumbo Salted Peanut...</td>\n",
       "      <td>NEGATIVE</td>\n",
       "    </tr>\n",
       "    <tr>\n",
       "      <th>2</th>\n",
       "      <td>B001BS4G6O</td>\n",
       "      <td>4</td>\n",
       "      <td>Pretty good but you can do better</td>\n",
       "      <td>Pill pockets usually work well though sometime...</td>\n",
       "      <td>POSITIVE</td>\n",
       "    </tr>\n",
       "    <tr>\n",
       "      <th>3</th>\n",
       "      <td>B000UA0QIQ</td>\n",
       "      <td>2</td>\n",
       "      <td>Cough Medicine</td>\n",
       "      <td>If you are looking for the secret ingredient i...</td>\n",
       "      <td>NEGATIVE</td>\n",
       "    </tr>\n",
       "    <tr>\n",
       "      <th>4</th>\n",
       "      <td>B005HG9ET0</td>\n",
       "      <td>5</td>\n",
       "      <td>Great taste and refreshing</td>\n",
       "      <td>I'm an avid drinker of Smart Water because of ...</td>\n",
       "      <td>POSITIVE</td>\n",
       "    </tr>\n",
       "  </tbody>\n",
       "</table>\n",
       "</div>"
      ],
      "text/plain": [
       "    ProductId  Rating                            Summary  \\\n",
       "0  B001NXHY8Y       5                  Daughter Approved   \n",
       "1  B00813GRG4       1                  Not as Advertised   \n",
       "2  B001BS4G6O       4  Pretty good but you can do better   \n",
       "3  B000UA0QIQ       2                     Cough Medicine   \n",
       "4  B005HG9ET0       5         Great taste and refreshing   \n",
       "\n",
       "                                                Text     Label  \n",
       "0  I was very upset when I was unable to find an ...  POSITIVE  \n",
       "1  Product arrived labeled as Jumbo Salted Peanut...  NEGATIVE  \n",
       "2  Pill pockets usually work well though sometime...  POSITIVE  \n",
       "3  If you are looking for the secret ingredient i...  NEGATIVE  \n",
       "4  I'm an avid drinker of Smart Water because of ...  POSITIVE  "
      ]
     },
     "execution_count": 21,
     "metadata": {},
     "output_type": "execute_result"
    }
   ],
   "source": [
    "# first 70000 reviews\n",
    "training_data = data[0:70000].reset_index(drop=True)\n",
    "training_data_length = training_data.shape[0]\n",
    "training_data.head()"
   ]
  },
  {
   "cell_type": "markdown",
   "metadata": {},
   "source": [
    "Shape of Training Data"
   ]
  },
  {
   "cell_type": "code",
   "execution_count": 22,
   "metadata": {
    "collapsed": false
   },
   "outputs": [
    {
     "name": "stdout",
     "output_type": "stream",
     "text": [
      "(70000, 5)\n",
      "(70000,)\n"
     ]
    }
   ],
   "source": [
    "pp.pprint(training_data.shape)\n",
    "pp.pprint(training_data.Label.shape)"
   ]
  },
  {
   "cell_type": "markdown",
   "metadata": {},
   "source": [
    "### Develop a Predictive Theory"
   ]
  },
  {
   "cell_type": "code",
   "execution_count": 23,
   "metadata": {
    "collapsed": true
   },
   "outputs": [],
   "source": [
    "def pretty_print_text_and_label(input_data, i):\n",
    "    print(input_data.Label[i] + \"\\t:\\t\" + input_data.Text[i][:80] + \"...\")"
   ]
  },
  {
   "cell_type": "code",
   "execution_count": 24,
   "metadata": {
    "collapsed": false
   },
   "outputs": [
    {
     "name": "stdout",
     "output_type": "stream",
     "text": [
      "labels \t : \t\t texts\n",
      "\n",
      "NEGATIVE\t:\tMaybe they were better 3-4 years ago but today in 2012 they have gone down hill....\n",
      "NEGATIVE\t:\tDogs will eat most anything reasonably edible, the ingredients in this dog food ...\n",
      "NEGATIVE\t:\tYes, dogs love these treats but educate yourself before you buy any dog treats m...\n",
      "POSITIVE\t:\tThe Grove Square Hot Coco K-Cups have a good flavor but I find that the k-cups d...\n",
      "NEGATIVE\t:\tI wouldn't recommend this to anyone. After a few months, I've harvested about 5 ...\n",
      "POSITIVE\t:\tI love this tea!<a href=\"http://www.amazon.com/gp/product/B006R0DOK0\">Zhena's Gy...\n"
     ]
    }
   ],
   "source": [
    "print(\"labels \\t : \\t\\t texts\\n\")\n",
    "# choose  a random spam set to analyse\n",
    "# random.randrange(start, stop, step)\n",
    "for i in range(0, 6):\n",
    "    pretty_print_text_and_label(training_data, random.randrange(0, training_data.shape[0]))\n"
   ]
  },
  {
   "cell_type": "markdown",
   "metadata": {},
   "source": [
    "It is very easy to distinguish a `NEGATIVE` from a `POSITIVE` review. `NEGATIVE` reviews occasionaly contain words like **worst**, **disgusting**, **inedible**, **fake**, **desceptive**, **refund**, **spoilt** e.t.c. This way we can let our network learn some of the words assocaiated with `NEGATIVE reviews` and based on such criteria we can classify a a new review as either `POSITIVE` OR `NEGATIVE`."
   ]
  },
  {
   "cell_type": "markdown",
   "metadata": {},
   "source": [
    "#### Theory Validation"
   ]
  },
  {
   "cell_type": "code",
   "execution_count": 25,
   "metadata": {
    "collapsed": true
   },
   "outputs": [],
   "source": [
    "positive_counts = Counter()\n",
    "negative_counts = Counter()\n",
    "total_counts = Counter()\n",
    "positive_negative_ratios = Counter()"
   ]
  },
  {
   "cell_type": "code",
   "execution_count": 26,
   "metadata": {
    "collapsed": true
   },
   "outputs": [],
   "source": [
    "for i in range(training_data_length):\n",
    "    if(training_data.Label[i] == \"NEGATIVE\"):\n",
    "        for word in training_data.Text[i].split(\" \"):\n",
    "            negative_counts[word] += 1\n",
    "            total_counts[word] += 1\n",
    "    if(training_data.Label[i] == \"POSITIVE\"):\n",
    "        for word in training_data.Text[i].split(\" \"):\n",
    "            positive_counts[word] += 1\n",
    "            total_counts[word] += 1"
   ]
  },
  {
   "cell_type": "code",
   "execution_count": 31,
   "metadata": {
    "collapsed": false
   },
   "outputs": [
    {
     "name": "stdout",
     "output_type": "stream",
     "text": [
      "[('the', 97807),\n",
      " ('I', 82744),\n",
      " ('and', 76217),\n",
      " ('a', 72792),\n",
      " ('', 60985),\n",
      " ('to', 59880),\n",
      " ('of', 47331),\n",
      " ('is', 44501),\n",
      " ('it', 38054),\n",
      " ('for', 32750)]\n"
     ]
    }
   ],
   "source": [
    "# print first 10 words\n",
    "pp.pprint(positive_counts.most_common()[0:10])"
   ]
  },
  {
   "cell_type": "markdown",
   "metadata": {},
   "source": [
    "The overall count or frequency of words doesn't really tell us anything about the affinity of some words toward certain sentiments. One way to get the words with sentimental values is to use the:\n",
    "\n",
    "$$ {positive negative ratio}= \\frac{frequency of word in positive reviews}{frequency of word in negative reviews}$$"
   ]
  },
  {
   "cell_type": "code",
   "execution_count": 32,
   "metadata": {
    "collapsed": true
   },
   "outputs": [],
   "source": [
    "for word,count in list(total_counts.most_common()):\n",
    "    if(count > 100):\n",
    "        positive_negative_ratio = float(positive_counts[word]) / float(negative_counts[word]+1)\n",
    "        positive_negative_ratios[word] = positive_negative_ratio\n",
    "\n",
    "for word,ratio in positive_negative_ratios.most_common():\n",
    "    if(ratio > 1):\n",
    "        positive_negative_ratios[word] = np.log(ratio)\n",
    "    else:\n",
    "        positive_negative_ratios[word] = -np.log((1/(ratio+0.001)))"
   ]
  },
  {
   "cell_type": "code",
   "execution_count": 33,
   "metadata": {
    "collapsed": false
   },
   "outputs": [
    {
     "name": "stdout",
     "output_type": "stream",
     "text": [
      "[('hooked.', 3.5263605246161616),\n",
      " ('Perfect', 2.9601050959108397),\n",
      " ('delicious!', 2.8332133440562162),\n",
      " ('Highly', 2.7300291078209855),\n",
      " ('Excellent', 2.5236211619686908),\n",
      " ('downside', 2.1972245773362196),\n",
      " ('pleasantly', 2.1377104498038118),\n",
      " ('saves', 2.0541237336955462),\n",
      " ('Great', 2.0149030205422647),\n",
      " ('best!', 1.9993988340062996)]\n"
     ]
    }
   ],
   "source": [
    "# words most frequently seen in a review with a \"POSITIVE\" label\n",
    "pp.pprint(positive_negative_ratios.most_common()[0:10])"
   ]
  },
  {
   "cell_type": "code",
   "execution_count": 34,
   "metadata": {
    "collapsed": false
   },
   "outputs": [
    {
     "name": "stdout",
     "output_type": "stream",
     "text": [
      "[('NO<br', -6.9077552789821368),\n",
      " ('menadione', -3.7974196226891421),\n",
      " ('deliberately', -3.6850314455177626),\n",
      " ('Buyer', -3.3183849487575627),\n",
      " ('disgusting.', -3.1898372688882821),\n",
      " ('desk,', -3.1005338958061834),\n",
      " ('garbage.', -3.0391618314813269),\n",
      " ('gross.', -3.0283925629026656),\n",
      " ('nasty.', -2.9635959921316002),\n",
      " ('dust.', -2.9511021545373284)]\n"
     ]
    }
   ],
   "source": [
    "# words most frequently seen in a text with a \"NEGATIVE\" label\n",
    "pp.pprint(list(reversed(positive_negative_ratios.most_common()))[0:10])"
   ]
  }
 ],
 "metadata": {
  "anaconda-cloud": {},
  "kernelspec": {
   "display_name": "Python [conda root]",
   "language": "python",
   "name": "conda-root-py"
  },
  "language_info": {
   "codemirror_mode": {
    "name": "ipython",
    "version": 3
   },
   "file_extension": ".py",
   "mimetype": "text/x-python",
   "name": "python",
   "nbconvert_exporter": "python",
   "pygments_lexer": "ipython3",
   "version": "3.5.2"
  }
 },
 "nbformat": 4,
 "nbformat_minor": 1
}
